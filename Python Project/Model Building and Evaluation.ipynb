{
 "cells": [
  {
   "cell_type": "code",
   "execution_count": 1,
   "id": "4f5e03ae",
   "metadata": {},
   "outputs": [],
   "source": [
    "import pandas as pd\n",
    "import numpy as np\n",
    "import matplotlib.pyplot as plt\n",
    "import seaborn as sns\n",
    "\n",
    "from sklearn import preprocessing\n",
    "from sklearn.preprocessing import StandardScaler\n",
    "from sklearn.model_selection import train_test_split\n",
    "from sklearn.metrics import accuracy_score, precision_score, recall_score, roc_auc_score, classification_report, confusion_matrix, ConfusionMatrixDisplay, RocCurveDisplay\n",
    "from sklearn.tree import DecisionTreeClassifier\n",
    "from sklearn.ensemble import RandomForestClassifier\n",
    "from sklearn.svm import SVC\n",
    "from xgboost import XGBClassifier\n",
    "from lightgbm import LGBMClassifier\n",
    "from sklearn.ensemble import AdaBoostClassifier\n",
    "from catboost import CatBoostClassifier\n",
    "\n",
    "train = pd.read_csv('train.csv')\n",
    "test = pd.read_csv('test.csv')"
   ]
  },
  {
   "cell_type": "code",
   "execution_count": 2,
   "id": "b09063f3",
   "metadata": {},
   "outputs": [
    {
     "data": {
      "text/html": [
       "<div>\n",
       "<style scoped>\n",
       "    .dataframe tbody tr th:only-of-type {\n",
       "        vertical-align: middle;\n",
       "    }\n",
       "\n",
       "    .dataframe tbody tr th {\n",
       "        vertical-align: top;\n",
       "    }\n",
       "\n",
       "    .dataframe thead th {\n",
       "        text-align: right;\n",
       "    }\n",
       "</style>\n",
       "<table border=\"1\" class=\"dataframe\">\n",
       "  <thead>\n",
       "    <tr style=\"text-align: right;\">\n",
       "      <th></th>\n",
       "      <th>Unnamed: 0</th>\n",
       "      <th>id</th>\n",
       "      <th>Gender</th>\n",
       "      <th>Customer Type</th>\n",
       "      <th>Age</th>\n",
       "      <th>Type of Travel</th>\n",
       "      <th>Class</th>\n",
       "      <th>Flight Distance</th>\n",
       "      <th>Inflight wifi service</th>\n",
       "      <th>Departure/Arrival time convenient</th>\n",
       "      <th>...</th>\n",
       "      <th>Inflight entertainment</th>\n",
       "      <th>On-board service</th>\n",
       "      <th>Leg room service</th>\n",
       "      <th>Baggage handling</th>\n",
       "      <th>Checkin service</th>\n",
       "      <th>Inflight service</th>\n",
       "      <th>Cleanliness</th>\n",
       "      <th>Departure Delay in Minutes</th>\n",
       "      <th>Arrival Delay in Minutes</th>\n",
       "      <th>satisfaction</th>\n",
       "    </tr>\n",
       "  </thead>\n",
       "  <tbody>\n",
       "    <tr>\n",
       "      <th>0</th>\n",
       "      <td>0</td>\n",
       "      <td>70172</td>\n",
       "      <td>Male</td>\n",
       "      <td>Loyal Customer</td>\n",
       "      <td>13</td>\n",
       "      <td>Personal Travel</td>\n",
       "      <td>Eco Plus</td>\n",
       "      <td>460</td>\n",
       "      <td>3</td>\n",
       "      <td>4</td>\n",
       "      <td>...</td>\n",
       "      <td>5</td>\n",
       "      <td>4</td>\n",
       "      <td>3</td>\n",
       "      <td>4</td>\n",
       "      <td>4</td>\n",
       "      <td>5</td>\n",
       "      <td>5</td>\n",
       "      <td>25</td>\n",
       "      <td>18.0</td>\n",
       "      <td>neutral or dissatisfied</td>\n",
       "    </tr>\n",
       "    <tr>\n",
       "      <th>1</th>\n",
       "      <td>1</td>\n",
       "      <td>5047</td>\n",
       "      <td>Male</td>\n",
       "      <td>disloyal Customer</td>\n",
       "      <td>25</td>\n",
       "      <td>Business travel</td>\n",
       "      <td>Business</td>\n",
       "      <td>235</td>\n",
       "      <td>3</td>\n",
       "      <td>2</td>\n",
       "      <td>...</td>\n",
       "      <td>1</td>\n",
       "      <td>1</td>\n",
       "      <td>5</td>\n",
       "      <td>3</td>\n",
       "      <td>1</td>\n",
       "      <td>4</td>\n",
       "      <td>1</td>\n",
       "      <td>1</td>\n",
       "      <td>6.0</td>\n",
       "      <td>neutral or dissatisfied</td>\n",
       "    </tr>\n",
       "    <tr>\n",
       "      <th>2</th>\n",
       "      <td>2</td>\n",
       "      <td>110028</td>\n",
       "      <td>Female</td>\n",
       "      <td>Loyal Customer</td>\n",
       "      <td>26</td>\n",
       "      <td>Business travel</td>\n",
       "      <td>Business</td>\n",
       "      <td>1142</td>\n",
       "      <td>2</td>\n",
       "      <td>2</td>\n",
       "      <td>...</td>\n",
       "      <td>5</td>\n",
       "      <td>4</td>\n",
       "      <td>3</td>\n",
       "      <td>4</td>\n",
       "      <td>4</td>\n",
       "      <td>4</td>\n",
       "      <td>5</td>\n",
       "      <td>0</td>\n",
       "      <td>0.0</td>\n",
       "      <td>satisfied</td>\n",
       "    </tr>\n",
       "    <tr>\n",
       "      <th>3</th>\n",
       "      <td>3</td>\n",
       "      <td>24026</td>\n",
       "      <td>Female</td>\n",
       "      <td>Loyal Customer</td>\n",
       "      <td>25</td>\n",
       "      <td>Business travel</td>\n",
       "      <td>Business</td>\n",
       "      <td>562</td>\n",
       "      <td>2</td>\n",
       "      <td>5</td>\n",
       "      <td>...</td>\n",
       "      <td>2</td>\n",
       "      <td>2</td>\n",
       "      <td>5</td>\n",
       "      <td>3</td>\n",
       "      <td>1</td>\n",
       "      <td>4</td>\n",
       "      <td>2</td>\n",
       "      <td>11</td>\n",
       "      <td>9.0</td>\n",
       "      <td>neutral or dissatisfied</td>\n",
       "    </tr>\n",
       "    <tr>\n",
       "      <th>4</th>\n",
       "      <td>4</td>\n",
       "      <td>119299</td>\n",
       "      <td>Male</td>\n",
       "      <td>Loyal Customer</td>\n",
       "      <td>61</td>\n",
       "      <td>Business travel</td>\n",
       "      <td>Business</td>\n",
       "      <td>214</td>\n",
       "      <td>3</td>\n",
       "      <td>3</td>\n",
       "      <td>...</td>\n",
       "      <td>3</td>\n",
       "      <td>3</td>\n",
       "      <td>4</td>\n",
       "      <td>4</td>\n",
       "      <td>3</td>\n",
       "      <td>3</td>\n",
       "      <td>3</td>\n",
       "      <td>0</td>\n",
       "      <td>0.0</td>\n",
       "      <td>satisfied</td>\n",
       "    </tr>\n",
       "  </tbody>\n",
       "</table>\n",
       "<p>5 rows × 25 columns</p>\n",
       "</div>"
      ],
      "text/plain": [
       "   Unnamed: 0      id  Gender      Customer Type  Age   Type of Travel  \\\n",
       "0           0   70172    Male     Loyal Customer   13  Personal Travel   \n",
       "1           1    5047    Male  disloyal Customer   25  Business travel   \n",
       "2           2  110028  Female     Loyal Customer   26  Business travel   \n",
       "3           3   24026  Female     Loyal Customer   25  Business travel   \n",
       "4           4  119299    Male     Loyal Customer   61  Business travel   \n",
       "\n",
       "      Class  Flight Distance  Inflight wifi service  \\\n",
       "0  Eco Plus              460                      3   \n",
       "1  Business              235                      3   \n",
       "2  Business             1142                      2   \n",
       "3  Business              562                      2   \n",
       "4  Business              214                      3   \n",
       "\n",
       "   Departure/Arrival time convenient  ...  Inflight entertainment  \\\n",
       "0                                  4  ...                       5   \n",
       "1                                  2  ...                       1   \n",
       "2                                  2  ...                       5   \n",
       "3                                  5  ...                       2   \n",
       "4                                  3  ...                       3   \n",
       "\n",
       "   On-board service  Leg room service  Baggage handling  Checkin service  \\\n",
       "0                 4                 3                 4                4   \n",
       "1                 1                 5                 3                1   \n",
       "2                 4                 3                 4                4   \n",
       "3                 2                 5                 3                1   \n",
       "4                 3                 4                 4                3   \n",
       "\n",
       "   Inflight service  Cleanliness  Departure Delay in Minutes  \\\n",
       "0                 5            5                          25   \n",
       "1                 4            1                           1   \n",
       "2                 4            5                           0   \n",
       "3                 4            2                          11   \n",
       "4                 3            3                           0   \n",
       "\n",
       "   Arrival Delay in Minutes             satisfaction  \n",
       "0                      18.0  neutral or dissatisfied  \n",
       "1                       6.0  neutral or dissatisfied  \n",
       "2                       0.0                satisfied  \n",
       "3                       9.0  neutral or dissatisfied  \n",
       "4                       0.0                satisfied  \n",
       "\n",
       "[5 rows x 25 columns]"
      ]
     },
     "execution_count": 2,
     "metadata": {},
     "output_type": "execute_result"
    }
   ],
   "source": [
    "train.head()"
   ]
  },
  {
   "cell_type": "code",
   "execution_count": 3,
   "id": "127efd58",
   "metadata": {},
   "outputs": [
    {
     "data": {
      "text/html": [
       "<div>\n",
       "<style scoped>\n",
       "    .dataframe tbody tr th:only-of-type {\n",
       "        vertical-align: middle;\n",
       "    }\n",
       "\n",
       "    .dataframe tbody tr th {\n",
       "        vertical-align: top;\n",
       "    }\n",
       "\n",
       "    .dataframe thead th {\n",
       "        text-align: right;\n",
       "    }\n",
       "</style>\n",
       "<table border=\"1\" class=\"dataframe\">\n",
       "  <thead>\n",
       "    <tr style=\"text-align: right;\">\n",
       "      <th></th>\n",
       "      <th>Unnamed: 0</th>\n",
       "      <th>id</th>\n",
       "      <th>Gender</th>\n",
       "      <th>Customer Type</th>\n",
       "      <th>Age</th>\n",
       "      <th>Type of Travel</th>\n",
       "      <th>Class</th>\n",
       "      <th>Flight Distance</th>\n",
       "      <th>Inflight wifi service</th>\n",
       "      <th>Departure/Arrival time convenient</th>\n",
       "      <th>...</th>\n",
       "      <th>Inflight entertainment</th>\n",
       "      <th>On-board service</th>\n",
       "      <th>Leg room service</th>\n",
       "      <th>Baggage handling</th>\n",
       "      <th>Checkin service</th>\n",
       "      <th>Inflight service</th>\n",
       "      <th>Cleanliness</th>\n",
       "      <th>Departure Delay in Minutes</th>\n",
       "      <th>Arrival Delay in Minutes</th>\n",
       "      <th>satisfaction</th>\n",
       "    </tr>\n",
       "  </thead>\n",
       "  <tbody>\n",
       "    <tr>\n",
       "      <th>0</th>\n",
       "      <td>0</td>\n",
       "      <td>19556</td>\n",
       "      <td>Female</td>\n",
       "      <td>Loyal Customer</td>\n",
       "      <td>52</td>\n",
       "      <td>Business travel</td>\n",
       "      <td>Eco</td>\n",
       "      <td>160</td>\n",
       "      <td>5</td>\n",
       "      <td>4</td>\n",
       "      <td>...</td>\n",
       "      <td>5</td>\n",
       "      <td>5</td>\n",
       "      <td>5</td>\n",
       "      <td>5</td>\n",
       "      <td>2</td>\n",
       "      <td>5</td>\n",
       "      <td>5</td>\n",
       "      <td>50</td>\n",
       "      <td>44.0</td>\n",
       "      <td>satisfied</td>\n",
       "    </tr>\n",
       "    <tr>\n",
       "      <th>1</th>\n",
       "      <td>1</td>\n",
       "      <td>90035</td>\n",
       "      <td>Female</td>\n",
       "      <td>Loyal Customer</td>\n",
       "      <td>36</td>\n",
       "      <td>Business travel</td>\n",
       "      <td>Business</td>\n",
       "      <td>2863</td>\n",
       "      <td>1</td>\n",
       "      <td>1</td>\n",
       "      <td>...</td>\n",
       "      <td>4</td>\n",
       "      <td>4</td>\n",
       "      <td>4</td>\n",
       "      <td>4</td>\n",
       "      <td>3</td>\n",
       "      <td>4</td>\n",
       "      <td>5</td>\n",
       "      <td>0</td>\n",
       "      <td>0.0</td>\n",
       "      <td>satisfied</td>\n",
       "    </tr>\n",
       "    <tr>\n",
       "      <th>2</th>\n",
       "      <td>2</td>\n",
       "      <td>12360</td>\n",
       "      <td>Male</td>\n",
       "      <td>disloyal Customer</td>\n",
       "      <td>20</td>\n",
       "      <td>Business travel</td>\n",
       "      <td>Eco</td>\n",
       "      <td>192</td>\n",
       "      <td>2</td>\n",
       "      <td>0</td>\n",
       "      <td>...</td>\n",
       "      <td>2</td>\n",
       "      <td>4</td>\n",
       "      <td>1</td>\n",
       "      <td>3</td>\n",
       "      <td>2</td>\n",
       "      <td>2</td>\n",
       "      <td>2</td>\n",
       "      <td>0</td>\n",
       "      <td>0.0</td>\n",
       "      <td>neutral or dissatisfied</td>\n",
       "    </tr>\n",
       "    <tr>\n",
       "      <th>3</th>\n",
       "      <td>3</td>\n",
       "      <td>77959</td>\n",
       "      <td>Male</td>\n",
       "      <td>Loyal Customer</td>\n",
       "      <td>44</td>\n",
       "      <td>Business travel</td>\n",
       "      <td>Business</td>\n",
       "      <td>3377</td>\n",
       "      <td>0</td>\n",
       "      <td>0</td>\n",
       "      <td>...</td>\n",
       "      <td>1</td>\n",
       "      <td>1</td>\n",
       "      <td>1</td>\n",
       "      <td>1</td>\n",
       "      <td>3</td>\n",
       "      <td>1</td>\n",
       "      <td>4</td>\n",
       "      <td>0</td>\n",
       "      <td>6.0</td>\n",
       "      <td>satisfied</td>\n",
       "    </tr>\n",
       "    <tr>\n",
       "      <th>4</th>\n",
       "      <td>4</td>\n",
       "      <td>36875</td>\n",
       "      <td>Female</td>\n",
       "      <td>Loyal Customer</td>\n",
       "      <td>49</td>\n",
       "      <td>Business travel</td>\n",
       "      <td>Eco</td>\n",
       "      <td>1182</td>\n",
       "      <td>2</td>\n",
       "      <td>3</td>\n",
       "      <td>...</td>\n",
       "      <td>2</td>\n",
       "      <td>2</td>\n",
       "      <td>2</td>\n",
       "      <td>2</td>\n",
       "      <td>4</td>\n",
       "      <td>2</td>\n",
       "      <td>4</td>\n",
       "      <td>0</td>\n",
       "      <td>20.0</td>\n",
       "      <td>satisfied</td>\n",
       "    </tr>\n",
       "  </tbody>\n",
       "</table>\n",
       "<p>5 rows × 25 columns</p>\n",
       "</div>"
      ],
      "text/plain": [
       "   Unnamed: 0     id  Gender      Customer Type  Age   Type of Travel  \\\n",
       "0           0  19556  Female     Loyal Customer   52  Business travel   \n",
       "1           1  90035  Female     Loyal Customer   36  Business travel   \n",
       "2           2  12360    Male  disloyal Customer   20  Business travel   \n",
       "3           3  77959    Male     Loyal Customer   44  Business travel   \n",
       "4           4  36875  Female     Loyal Customer   49  Business travel   \n",
       "\n",
       "      Class  Flight Distance  Inflight wifi service  \\\n",
       "0       Eco              160                      5   \n",
       "1  Business             2863                      1   \n",
       "2       Eco              192                      2   \n",
       "3  Business             3377                      0   \n",
       "4       Eco             1182                      2   \n",
       "\n",
       "   Departure/Arrival time convenient  ...  Inflight entertainment  \\\n",
       "0                                  4  ...                       5   \n",
       "1                                  1  ...                       4   \n",
       "2                                  0  ...                       2   \n",
       "3                                  0  ...                       1   \n",
       "4                                  3  ...                       2   \n",
       "\n",
       "   On-board service  Leg room service  Baggage handling  Checkin service  \\\n",
       "0                 5                 5                 5                2   \n",
       "1                 4                 4                 4                3   \n",
       "2                 4                 1                 3                2   \n",
       "3                 1                 1                 1                3   \n",
       "4                 2                 2                 2                4   \n",
       "\n",
       "   Inflight service  Cleanliness  Departure Delay in Minutes  \\\n",
       "0                 5            5                          50   \n",
       "1                 4            5                           0   \n",
       "2                 2            2                           0   \n",
       "3                 1            4                           0   \n",
       "4                 2            4                           0   \n",
       "\n",
       "   Arrival Delay in Minutes             satisfaction  \n",
       "0                      44.0                satisfied  \n",
       "1                       0.0                satisfied  \n",
       "2                       0.0  neutral or dissatisfied  \n",
       "3                       6.0                satisfied  \n",
       "4                      20.0                satisfied  \n",
       "\n",
       "[5 rows x 25 columns]"
      ]
     },
     "execution_count": 3,
     "metadata": {},
     "output_type": "execute_result"
    }
   ],
   "source": [
    "test.head()"
   ]
  },
  {
   "cell_type": "code",
   "execution_count": 4,
   "id": "6d31925b",
   "metadata": {},
   "outputs": [
    {
     "data": {
      "text/plain": [
       "(103904, 25)"
      ]
     },
     "execution_count": 4,
     "metadata": {},
     "output_type": "execute_result"
    }
   ],
   "source": [
    "train.shape"
   ]
  },
  {
   "cell_type": "code",
   "execution_count": 5,
   "id": "70ce194d",
   "metadata": {},
   "outputs": [
    {
     "data": {
      "text/plain": [
       "(25976, 25)"
      ]
     },
     "execution_count": 5,
     "metadata": {},
     "output_type": "execute_result"
    }
   ],
   "source": [
    "test.shape"
   ]
  },
  {
   "cell_type": "code",
   "execution_count": 6,
   "id": "8032c7b4",
   "metadata": {},
   "outputs": [
    {
     "data": {
      "text/plain": [
       "(129880, 25)"
      ]
     },
     "execution_count": 6,
     "metadata": {},
     "output_type": "execute_result"
    }
   ],
   "source": [
    "#Merge 2 csv files\n",
    "data = pd.concat([train,test])\n",
    "data.shape"
   ]
  },
  {
   "cell_type": "markdown",
   "id": "066964c9",
   "metadata": {},
   "source": [
    "# Data Preparation"
   ]
  },
  {
   "cell_type": "markdown",
   "id": "85db7087",
   "metadata": {},
   "source": [
    "## 1. Data Cleaning "
   ]
  },
  {
   "cell_type": "code",
   "execution_count": 7,
   "id": "8494c2cf",
   "metadata": {},
   "outputs": [],
   "source": [
    "#Remove unnecessary columns\n",
    "data.drop(columns=['Unnamed: 0', 'id'], inplace=True)"
   ]
  },
  {
   "cell_type": "code",
   "execution_count": 8,
   "id": "97c9fe15",
   "metadata": {},
   "outputs": [
    {
     "data": {
      "text/plain": [
       "False"
      ]
     },
     "execution_count": 8,
     "metadata": {},
     "output_type": "execute_result"
    }
   ],
   "source": [
    "#Check for duplicate values\n",
    "data.duplicated().any()"
   ]
  },
  {
   "cell_type": "code",
   "execution_count": 9,
   "id": "ff8fc7dd",
   "metadata": {
    "scrolled": true
   },
   "outputs": [
    {
     "data": {
      "text/plain": [
       "Gender                                 0\n",
       "Customer Type                          0\n",
       "Age                                    0\n",
       "Type of Travel                         0\n",
       "Class                                  0\n",
       "Flight Distance                        0\n",
       "Inflight wifi service                  0\n",
       "Departure/Arrival time convenient      0\n",
       "Ease of Online booking                 0\n",
       "Gate location                          0\n",
       "Food and drink                         0\n",
       "Online boarding                        0\n",
       "Seat comfort                           0\n",
       "Inflight entertainment                 0\n",
       "On-board service                       0\n",
       "Leg room service                       0\n",
       "Baggage handling                       0\n",
       "Checkin service                        0\n",
       "Inflight service                       0\n",
       "Cleanliness                            0\n",
       "Departure Delay in Minutes             0\n",
       "Arrival Delay in Minutes             393\n",
       "satisfaction                           0\n",
       "dtype: int64"
      ]
     },
     "execution_count": 9,
     "metadata": {},
     "output_type": "execute_result"
    }
   ],
   "source": [
    "#Check missing values\n",
    "data.isna().sum()"
   ]
  },
  {
   "cell_type": "code",
   "execution_count": 10,
   "id": "a153bdef",
   "metadata": {},
   "outputs": [],
   "source": [
    "#Replace missing values with median()\n",
    "data['Arrival Delay in Minutes'].fillna(data['Arrival Delay in Minutes'].median(axis = 0), inplace = True)"
   ]
  },
  {
   "cell_type": "code",
   "execution_count": 11,
   "id": "8e7df89e",
   "metadata": {
    "scrolled": true
   },
   "outputs": [
    {
     "data": {
      "text/plain": [
       "Gender                               0\n",
       "Customer Type                        0\n",
       "Age                                  0\n",
       "Type of Travel                       0\n",
       "Class                                0\n",
       "Flight Distance                      0\n",
       "Inflight wifi service                0\n",
       "Departure/Arrival time convenient    0\n",
       "Ease of Online booking               0\n",
       "Gate location                        0\n",
       "Food and drink                       0\n",
       "Online boarding                      0\n",
       "Seat comfort                         0\n",
       "Inflight entertainment               0\n",
       "On-board service                     0\n",
       "Leg room service                     0\n",
       "Baggage handling                     0\n",
       "Checkin service                      0\n",
       "Inflight service                     0\n",
       "Cleanliness                          0\n",
       "Departure Delay in Minutes           0\n",
       "Arrival Delay in Minutes             0\n",
       "satisfaction                         0\n",
       "dtype: int64"
      ]
     },
     "execution_count": 11,
     "metadata": {},
     "output_type": "execute_result"
    }
   ],
   "source": [
    "data.isna().sum()"
   ]
  },
  {
   "cell_type": "code",
   "execution_count": 12,
   "id": "2a4e291a",
   "metadata": {
    "scrolled": false
   },
   "outputs": [
    {
     "data": {
      "text/html": [
       "<div>\n",
       "<style scoped>\n",
       "    .dataframe tbody tr th:only-of-type {\n",
       "        vertical-align: middle;\n",
       "    }\n",
       "\n",
       "    .dataframe tbody tr th {\n",
       "        vertical-align: top;\n",
       "    }\n",
       "\n",
       "    .dataframe thead th {\n",
       "        text-align: right;\n",
       "    }\n",
       "</style>\n",
       "<table border=\"1\" class=\"dataframe\">\n",
       "  <thead>\n",
       "    <tr style=\"text-align: right;\">\n",
       "      <th></th>\n",
       "      <th>Gender</th>\n",
       "      <th>Customer Type</th>\n",
       "      <th>Age</th>\n",
       "      <th>Type of Travel</th>\n",
       "      <th>Class</th>\n",
       "      <th>Flight Distance</th>\n",
       "      <th>Inflight wifi service</th>\n",
       "      <th>Departure/Arrival time convenient</th>\n",
       "      <th>Ease of Online booking</th>\n",
       "      <th>Gate location</th>\n",
       "      <th>...</th>\n",
       "      <th>Inflight entertainment</th>\n",
       "      <th>On-board service</th>\n",
       "      <th>Leg room service</th>\n",
       "      <th>Baggage handling</th>\n",
       "      <th>Checkin service</th>\n",
       "      <th>Inflight service</th>\n",
       "      <th>Cleanliness</th>\n",
       "      <th>Departure Delay in Minutes</th>\n",
       "      <th>Arrival Delay in Minutes</th>\n",
       "      <th>satisfaction</th>\n",
       "    </tr>\n",
       "  </thead>\n",
       "  <tbody>\n",
       "    <tr>\n",
       "      <th>0</th>\n",
       "      <td>Male</td>\n",
       "      <td>Loyal Customer</td>\n",
       "      <td>13</td>\n",
       "      <td>Personal Travel</td>\n",
       "      <td>Eco Plus</td>\n",
       "      <td>460</td>\n",
       "      <td>3</td>\n",
       "      <td>4</td>\n",
       "      <td>3</td>\n",
       "      <td>1</td>\n",
       "      <td>...</td>\n",
       "      <td>5</td>\n",
       "      <td>4</td>\n",
       "      <td>3</td>\n",
       "      <td>4</td>\n",
       "      <td>4</td>\n",
       "      <td>5</td>\n",
       "      <td>5</td>\n",
       "      <td>25</td>\n",
       "      <td>18.0</td>\n",
       "      <td>neutral or dissatisfied</td>\n",
       "    </tr>\n",
       "    <tr>\n",
       "      <th>1</th>\n",
       "      <td>Male</td>\n",
       "      <td>disloyal Customer</td>\n",
       "      <td>25</td>\n",
       "      <td>Business travel</td>\n",
       "      <td>Business</td>\n",
       "      <td>235</td>\n",
       "      <td>3</td>\n",
       "      <td>2</td>\n",
       "      <td>3</td>\n",
       "      <td>3</td>\n",
       "      <td>...</td>\n",
       "      <td>1</td>\n",
       "      <td>1</td>\n",
       "      <td>5</td>\n",
       "      <td>3</td>\n",
       "      <td>1</td>\n",
       "      <td>4</td>\n",
       "      <td>1</td>\n",
       "      <td>1</td>\n",
       "      <td>6.0</td>\n",
       "      <td>neutral or dissatisfied</td>\n",
       "    </tr>\n",
       "    <tr>\n",
       "      <th>2</th>\n",
       "      <td>Female</td>\n",
       "      <td>Loyal Customer</td>\n",
       "      <td>26</td>\n",
       "      <td>Business travel</td>\n",
       "      <td>Business</td>\n",
       "      <td>1142</td>\n",
       "      <td>2</td>\n",
       "      <td>2</td>\n",
       "      <td>2</td>\n",
       "      <td>2</td>\n",
       "      <td>...</td>\n",
       "      <td>5</td>\n",
       "      <td>4</td>\n",
       "      <td>3</td>\n",
       "      <td>4</td>\n",
       "      <td>4</td>\n",
       "      <td>4</td>\n",
       "      <td>5</td>\n",
       "      <td>0</td>\n",
       "      <td>0.0</td>\n",
       "      <td>satisfied</td>\n",
       "    </tr>\n",
       "    <tr>\n",
       "      <th>3</th>\n",
       "      <td>Female</td>\n",
       "      <td>Loyal Customer</td>\n",
       "      <td>25</td>\n",
       "      <td>Business travel</td>\n",
       "      <td>Business</td>\n",
       "      <td>562</td>\n",
       "      <td>2</td>\n",
       "      <td>5</td>\n",
       "      <td>5</td>\n",
       "      <td>5</td>\n",
       "      <td>...</td>\n",
       "      <td>2</td>\n",
       "      <td>2</td>\n",
       "      <td>5</td>\n",
       "      <td>3</td>\n",
       "      <td>1</td>\n",
       "      <td>4</td>\n",
       "      <td>2</td>\n",
       "      <td>11</td>\n",
       "      <td>9.0</td>\n",
       "      <td>neutral or dissatisfied</td>\n",
       "    </tr>\n",
       "    <tr>\n",
       "      <th>4</th>\n",
       "      <td>Male</td>\n",
       "      <td>Loyal Customer</td>\n",
       "      <td>61</td>\n",
       "      <td>Business travel</td>\n",
       "      <td>Business</td>\n",
       "      <td>214</td>\n",
       "      <td>3</td>\n",
       "      <td>3</td>\n",
       "      <td>3</td>\n",
       "      <td>3</td>\n",
       "      <td>...</td>\n",
       "      <td>3</td>\n",
       "      <td>3</td>\n",
       "      <td>4</td>\n",
       "      <td>4</td>\n",
       "      <td>3</td>\n",
       "      <td>3</td>\n",
       "      <td>3</td>\n",
       "      <td>0</td>\n",
       "      <td>0.0</td>\n",
       "      <td>satisfied</td>\n",
       "    </tr>\n",
       "    <tr>\n",
       "      <th>5</th>\n",
       "      <td>Female</td>\n",
       "      <td>Loyal Customer</td>\n",
       "      <td>26</td>\n",
       "      <td>Personal Travel</td>\n",
       "      <td>Eco</td>\n",
       "      <td>1180</td>\n",
       "      <td>3</td>\n",
       "      <td>4</td>\n",
       "      <td>2</td>\n",
       "      <td>1</td>\n",
       "      <td>...</td>\n",
       "      <td>1</td>\n",
       "      <td>3</td>\n",
       "      <td>4</td>\n",
       "      <td>4</td>\n",
       "      <td>4</td>\n",
       "      <td>4</td>\n",
       "      <td>1</td>\n",
       "      <td>0</td>\n",
       "      <td>0.0</td>\n",
       "      <td>neutral or dissatisfied</td>\n",
       "    </tr>\n",
       "    <tr>\n",
       "      <th>6</th>\n",
       "      <td>Male</td>\n",
       "      <td>Loyal Customer</td>\n",
       "      <td>47</td>\n",
       "      <td>Personal Travel</td>\n",
       "      <td>Eco</td>\n",
       "      <td>1276</td>\n",
       "      <td>2</td>\n",
       "      <td>4</td>\n",
       "      <td>2</td>\n",
       "      <td>3</td>\n",
       "      <td>...</td>\n",
       "      <td>2</td>\n",
       "      <td>3</td>\n",
       "      <td>3</td>\n",
       "      <td>4</td>\n",
       "      <td>3</td>\n",
       "      <td>5</td>\n",
       "      <td>2</td>\n",
       "      <td>9</td>\n",
       "      <td>23.0</td>\n",
       "      <td>neutral or dissatisfied</td>\n",
       "    </tr>\n",
       "    <tr>\n",
       "      <th>7</th>\n",
       "      <td>Female</td>\n",
       "      <td>Loyal Customer</td>\n",
       "      <td>52</td>\n",
       "      <td>Business travel</td>\n",
       "      <td>Business</td>\n",
       "      <td>2035</td>\n",
       "      <td>4</td>\n",
       "      <td>3</td>\n",
       "      <td>4</td>\n",
       "      <td>4</td>\n",
       "      <td>...</td>\n",
       "      <td>5</td>\n",
       "      <td>5</td>\n",
       "      <td>5</td>\n",
       "      <td>5</td>\n",
       "      <td>4</td>\n",
       "      <td>5</td>\n",
       "      <td>4</td>\n",
       "      <td>4</td>\n",
       "      <td>0.0</td>\n",
       "      <td>satisfied</td>\n",
       "    </tr>\n",
       "    <tr>\n",
       "      <th>8</th>\n",
       "      <td>Female</td>\n",
       "      <td>Loyal Customer</td>\n",
       "      <td>41</td>\n",
       "      <td>Business travel</td>\n",
       "      <td>Business</td>\n",
       "      <td>853</td>\n",
       "      <td>1</td>\n",
       "      <td>2</td>\n",
       "      <td>2</td>\n",
       "      <td>2</td>\n",
       "      <td>...</td>\n",
       "      <td>1</td>\n",
       "      <td>1</td>\n",
       "      <td>2</td>\n",
       "      <td>1</td>\n",
       "      <td>4</td>\n",
       "      <td>1</td>\n",
       "      <td>2</td>\n",
       "      <td>0</td>\n",
       "      <td>0.0</td>\n",
       "      <td>neutral or dissatisfied</td>\n",
       "    </tr>\n",
       "    <tr>\n",
       "      <th>9</th>\n",
       "      <td>Male</td>\n",
       "      <td>disloyal Customer</td>\n",
       "      <td>20</td>\n",
       "      <td>Business travel</td>\n",
       "      <td>Eco</td>\n",
       "      <td>1061</td>\n",
       "      <td>3</td>\n",
       "      <td>3</td>\n",
       "      <td>3</td>\n",
       "      <td>4</td>\n",
       "      <td>...</td>\n",
       "      <td>2</td>\n",
       "      <td>2</td>\n",
       "      <td>3</td>\n",
       "      <td>4</td>\n",
       "      <td>4</td>\n",
       "      <td>3</td>\n",
       "      <td>2</td>\n",
       "      <td>0</td>\n",
       "      <td>0.0</td>\n",
       "      <td>neutral or dissatisfied</td>\n",
       "    </tr>\n",
       "  </tbody>\n",
       "</table>\n",
       "<p>10 rows × 23 columns</p>\n",
       "</div>"
      ],
      "text/plain": [
       "   Gender      Customer Type  Age   Type of Travel     Class  Flight Distance  \\\n",
       "0    Male     Loyal Customer   13  Personal Travel  Eco Plus              460   \n",
       "1    Male  disloyal Customer   25  Business travel  Business              235   \n",
       "2  Female     Loyal Customer   26  Business travel  Business             1142   \n",
       "3  Female     Loyal Customer   25  Business travel  Business              562   \n",
       "4    Male     Loyal Customer   61  Business travel  Business              214   \n",
       "5  Female     Loyal Customer   26  Personal Travel       Eco             1180   \n",
       "6    Male     Loyal Customer   47  Personal Travel       Eco             1276   \n",
       "7  Female     Loyal Customer   52  Business travel  Business             2035   \n",
       "8  Female     Loyal Customer   41  Business travel  Business              853   \n",
       "9    Male  disloyal Customer   20  Business travel       Eco             1061   \n",
       "\n",
       "   Inflight wifi service  Departure/Arrival time convenient  \\\n",
       "0                      3                                  4   \n",
       "1                      3                                  2   \n",
       "2                      2                                  2   \n",
       "3                      2                                  5   \n",
       "4                      3                                  3   \n",
       "5                      3                                  4   \n",
       "6                      2                                  4   \n",
       "7                      4                                  3   \n",
       "8                      1                                  2   \n",
       "9                      3                                  3   \n",
       "\n",
       "   Ease of Online booking  Gate location  ...  Inflight entertainment  \\\n",
       "0                       3              1  ...                       5   \n",
       "1                       3              3  ...                       1   \n",
       "2                       2              2  ...                       5   \n",
       "3                       5              5  ...                       2   \n",
       "4                       3              3  ...                       3   \n",
       "5                       2              1  ...                       1   \n",
       "6                       2              3  ...                       2   \n",
       "7                       4              4  ...                       5   \n",
       "8                       2              2  ...                       1   \n",
       "9                       3              4  ...                       2   \n",
       "\n",
       "   On-board service  Leg room service  Baggage handling  Checkin service  \\\n",
       "0                 4                 3                 4                4   \n",
       "1                 1                 5                 3                1   \n",
       "2                 4                 3                 4                4   \n",
       "3                 2                 5                 3                1   \n",
       "4                 3                 4                 4                3   \n",
       "5                 3                 4                 4                4   \n",
       "6                 3                 3                 4                3   \n",
       "7                 5                 5                 5                4   \n",
       "8                 1                 2                 1                4   \n",
       "9                 2                 3                 4                4   \n",
       "\n",
       "   Inflight service  Cleanliness  Departure Delay in Minutes  \\\n",
       "0                 5            5                          25   \n",
       "1                 4            1                           1   \n",
       "2                 4            5                           0   \n",
       "3                 4            2                          11   \n",
       "4                 3            3                           0   \n",
       "5                 4            1                           0   \n",
       "6                 5            2                           9   \n",
       "7                 5            4                           4   \n",
       "8                 1            2                           0   \n",
       "9                 3            2                           0   \n",
       "\n",
       "   Arrival Delay in Minutes             satisfaction  \n",
       "0                      18.0  neutral or dissatisfied  \n",
       "1                       6.0  neutral or dissatisfied  \n",
       "2                       0.0                satisfied  \n",
       "3                       9.0  neutral or dissatisfied  \n",
       "4                       0.0                satisfied  \n",
       "5                       0.0  neutral or dissatisfied  \n",
       "6                      23.0  neutral or dissatisfied  \n",
       "7                       0.0                satisfied  \n",
       "8                       0.0  neutral or dissatisfied  \n",
       "9                       0.0  neutral or dissatisfied  \n",
       "\n",
       "[10 rows x 23 columns]"
      ]
     },
     "execution_count": 12,
     "metadata": {},
     "output_type": "execute_result"
    }
   ],
   "source": [
    "data.head(10)"
   ]
  },
  {
   "cell_type": "markdown",
   "id": "32ab2033",
   "metadata": {},
   "source": [
    "## 2. Data Transformation"
   ]
  },
  {
   "cell_type": "code",
   "execution_count": 13,
   "id": "fdc69baf",
   "metadata": {},
   "outputs": [],
   "source": [
    "#Label encoding for categorical variables\n",
    "label_encoder = preprocessing.LabelEncoder()\n",
    "cat_cols = ['satisfaction', 'Gender', 'Customer Type', 'Type of Travel', 'Class']\n",
    "for cols in data[cat_cols]:\n",
    "    data[cols] = label_encoder.fit_transform(data[cols])"
   ]
  },
  {
   "cell_type": "code",
   "execution_count": 14,
   "id": "0b2a79ca",
   "metadata": {},
   "outputs": [],
   "source": [
    "#Using the get_dummies method for other variables\n",
    "data = pd.get_dummies(data)"
   ]
  },
  {
   "cell_type": "code",
   "execution_count": 15,
   "id": "2683cf18",
   "metadata": {
    "scrolled": true
   },
   "outputs": [
    {
     "name": "stdout",
     "output_type": "stream",
     "text": [
      "<class 'pandas.core.frame.DataFrame'>\n",
      "Int64Index: 129880 entries, 0 to 25975\n",
      "Data columns (total 23 columns):\n",
      " #   Column                             Non-Null Count   Dtype  \n",
      "---  ------                             --------------   -----  \n",
      " 0   Gender                             129880 non-null  int32  \n",
      " 1   Customer Type                      129880 non-null  int32  \n",
      " 2   Age                                129880 non-null  int64  \n",
      " 3   Type of Travel                     129880 non-null  int32  \n",
      " 4   Class                              129880 non-null  int32  \n",
      " 5   Flight Distance                    129880 non-null  int64  \n",
      " 6   Inflight wifi service              129880 non-null  int64  \n",
      " 7   Departure/Arrival time convenient  129880 non-null  int64  \n",
      " 8   Ease of Online booking             129880 non-null  int64  \n",
      " 9   Gate location                      129880 non-null  int64  \n",
      " 10  Food and drink                     129880 non-null  int64  \n",
      " 11  Online boarding                    129880 non-null  int64  \n",
      " 12  Seat comfort                       129880 non-null  int64  \n",
      " 13  Inflight entertainment             129880 non-null  int64  \n",
      " 14  On-board service                   129880 non-null  int64  \n",
      " 15  Leg room service                   129880 non-null  int64  \n",
      " 16  Baggage handling                   129880 non-null  int64  \n",
      " 17  Checkin service                    129880 non-null  int64  \n",
      " 18  Inflight service                   129880 non-null  int64  \n",
      " 19  Cleanliness                        129880 non-null  int64  \n",
      " 20  Departure Delay in Minutes         129880 non-null  int64  \n",
      " 21  Arrival Delay in Minutes           129880 non-null  float64\n",
      " 22  satisfaction                       129880 non-null  int32  \n",
      "dtypes: float64(1), int32(5), int64(17)\n",
      "memory usage: 21.3 MB\n"
     ]
    }
   ],
   "source": [
    "data.info()"
   ]
  },
  {
   "cell_type": "code",
   "execution_count": 16,
   "id": "c5b13ad5",
   "metadata": {},
   "outputs": [
    {
     "data": {
      "text/plain": [
       "(76442, 23)"
      ]
     },
     "execution_count": 16,
     "metadata": {},
     "output_type": "execute_result"
    }
   ],
   "source": [
    "# Outliers Detection and Removal\n",
    "Q1 = data.quantile(0.25)\n",
    "Q3 = data.quantile(0.75)\n",
    "IQR = Q3 - Q1\n",
    "\n",
    "data = data[~((data < (Q1 - 1.5 * IQR)) |(data > (Q3 + 1.5 * IQR))).any(axis=1)]\n",
    "data.shape"
   ]
  },
  {
   "cell_type": "code",
   "execution_count": 17,
   "id": "cde85420",
   "metadata": {},
   "outputs": [],
   "source": [
    "X = data.drop('satisfaction', axis=1)\n",
    "y = data['satisfaction']\n",
    "\n",
    "scale = StandardScaler()\n",
    "X = scale.fit_transform(X)"
   ]
  },
  {
   "cell_type": "code",
   "execution_count": 18,
   "id": "29117ac6",
   "metadata": {},
   "outputs": [
    {
     "data": {
      "image/png": "[encoded data removed]",
      "text/plain": [
       "<Figure size 1152x432 with 2 Axes>"
      ]
     },
     "metadata": {
      "needs_background": "light"
     },
     "output_type": "display_data"
    }
   ],
   "source": [
    "plt.figure(figsize=(16, 6))\n",
    "heatmap = sns.heatmap(data.corr(),\n",
    "                      vmin=-1, vmax=1, annot=True, cmap='BrBG')\n",
    "heatmap.set_title('Correlation Heatmap',\n",
    "                  fontdict={'fontsize':18}, pad=12);"
   ]
  },
  {
   "cell_type": "code",
   "execution_count": 19,
   "id": "0d2a2547",
   "metadata": {},
   "outputs": [],
   "source": [
    "data.drop(['Gender','Gate location'], axis=1, inplace=True)"
   ]
  },
  {
   "cell_type": "markdown",
   "id": "ddf1182c",
   "metadata": {},
   "source": [
    "# Model Building"
   ]
  },
  {
   "cell_type": "code",
   "execution_count": 20,
   "id": "c901b615",
   "metadata": {},
   "outputs": [
    {
     "name": "stdout",
     "output_type": "stream",
     "text": [
      "<class 'pandas.core.frame.DataFrame'>\n",
      "Int64Index: 76442 entries, 0 to 25974\n",
      "Data columns (total 21 columns):\n",
      " #   Column                             Non-Null Count  Dtype  \n",
      "---  ------                             --------------  -----  \n",
      " 0   Customer Type                      76442 non-null  int32  \n",
      " 1   Age                                76442 non-null  int64  \n",
      " 2   Type of Travel                     76442 non-null  int32  \n",
      " 3   Class                              76442 non-null  int32  \n",
      " 4   Flight Distance                    76442 non-null  int64  \n",
      " 5   Inflight wifi service              76442 non-null  int64  \n",
      " 6   Departure/Arrival time convenient  76442 non-null  int64  \n",
      " 7   Ease of Online booking             76442 non-null  int64  \n",
      " 8   Food and drink                     76442 non-null  int64  \n",
      " 9   Online boarding                    76442 non-null  int64  \n",
      " 10  Seat comfort                       76442 non-null  int64  \n",
      " 11  Inflight entertainment             76442 non-null  int64  \n",
      " 12  On-board service                   76442 non-null  int64  \n",
      " 13  Leg room service                   76442 non-null  int64  \n",
      " 14  Baggage handling                   76442 non-null  int64  \n",
      " 15  Checkin service                    76442 non-null  int64  \n",
      " 16  Inflight service                   76442 non-null  int64  \n",
      " 17  Cleanliness                        76442 non-null  int64  \n",
      " 18  Departure Delay in Minutes         76442 non-null  int64  \n",
      " 19  Arrival Delay in Minutes           76442 non-null  float64\n",
      " 20  satisfaction                       76442 non-null  int32  \n",
      "dtypes: float64(1), int32(4), int64(16)\n",
      "memory usage: 11.7 MB\n"
     ]
    }
   ],
   "source": [
    "data.info()"
   ]
  },
  {
   "cell_type": "code",
   "execution_count": 21,
   "id": "93c012d3",
   "metadata": {},
   "outputs": [],
   "source": [
    "#Split the data into 80% training and 20% testing\n",
    "X_train, X_test, y_train, y_test = train_test_split(X, y, test_size=0.2, random_state=42)"
   ]
  },
  {
   "cell_type": "code",
   "execution_count": 22,
   "id": "45599e48",
   "metadata": {},
   "outputs": [
    {
     "data": {
      "text/plain": [
       "(61153, 22)"
      ]
     },
     "execution_count": 22,
     "metadata": {},
     "output_type": "execute_result"
    }
   ],
   "source": [
    "X_train.shape"
   ]
  },
  {
   "cell_type": "code",
   "execution_count": 23,
   "id": "4bba9b75",
   "metadata": {},
   "outputs": [
    {
     "data": {
      "text/plain": [
       "(15289, 22)"
      ]
     },
     "execution_count": 23,
     "metadata": {},
     "output_type": "execute_result"
    }
   ],
   "source": [
    "X_test.shape"
   ]
  },
  {
   "cell_type": "markdown",
   "id": "ad6889be",
   "metadata": {},
   "source": [
    "### Decision Tree Classifier"
   ]
  },
  {
   "cell_type": "code",
   "execution_count": 24,
   "id": "3a7b042d",
   "metadata": {},
   "outputs": [],
   "source": [
    "#Create the model\n",
    "dt = DecisionTreeClassifier(criterion = 'entropy', random_state = 42)\n",
    "#Train the model\n",
    "dt.fit(X_train, y_train)\n",
    "#Make prediction\n",
    "dt_pred = dt.predict(X_test)"
   ]
  },
  {
   "cell_type": "code",
   "execution_count": 25,
   "id": "621373b4",
   "metadata": {},
   "outputs": [
    {
     "name": "stdout",
     "output_type": "stream",
     "text": [
      "Accuracy Score: 0.9564392700634443\n",
      "AUC Score 0.9564060888493184\n",
      "classification Report:\n",
      "               precision    recall  f1-score   support\n",
      "\n",
      "           0       0.96      0.95      0.96      7540\n",
      "           1       0.96      0.96      0.96      7749\n",
      "\n",
      "    accuracy                           0.96     15289\n",
      "   macro avg       0.96      0.96      0.96     15289\n",
      "weighted avg       0.96      0.96      0.96     15289\n",
      "\n",
      "confusion Matrix:\n",
      " [[7193  347]\n",
      " [ 319 7430]]\n"
     ]
    }
   ],
   "source": [
    "print(\"Accuracy Score:\",accuracy_score(y_test, dt_pred))\n",
    "print(\"AUC Score\",roc_auc_score(y_test, dt_pred))\n",
    "print(\"classification Report:\\n\",classification_report(y_test, dt_pred))\n",
    "print(\"confusion Matrix:\\n\",confusion_matrix(y_test, dt_pred))"
   ]
  },
  {
   "cell_type": "code",
   "execution_count": 26,
   "id": "8326eec2",
   "metadata": {},
   "outputs": [
    {
     "name": "stdout",
     "output_type": "stream",
     "text": [
      "Precision Score 0.9553812524109554\n",
      "Recall Score 0.9588333978577881\n"
     ]
    }
   ],
   "source": [
    "#Satisfied\n",
    "print(\"Precision Score\",precision_score(y_test, dt_pred))\n",
    "print(\"Recall Score\",recall_score(y_test, dt_pred))"
   ]
  },
  {
   "cell_type": "code",
   "execution_count": 27,
   "id": "e2db47f8",
   "metadata": {},
   "outputs": [
    {
     "name": "stdout",
     "output_type": "stream",
     "text": [
      "Precision Score 0.957534611288605\n",
      "Recall Score 0.9539787798408488\n"
     ]
    }
   ],
   "source": [
    "#Neutral or dissatisfied\n",
    "print(\"Precision Score\",precision_score(y_test, dt_pred, pos_label=0))\n",
    "print(\"Recall Score\",recall_score(y_test, dt_pred, pos_label=0))"
   ]
  },
  {
   "cell_type": "code",
   "execution_count": 28,
   "id": "ea7b71d6",
   "metadata": {},
   "outputs": [
    {
     "data": {
      "text/plain": [
       "<sklearn.metrics._plot.roc_curve.RocCurveDisplay at 0x23e004b3940>"
      ]
     },
     "execution_count": 28,
     "metadata": {},
     "output_type": "execute_result"
    },
    {
     "data": {
      "image/png": "[encoded data removed]",
      "text/plain": [
       "<Figure size 432x288 with 2 Axes>"
      ]
     },
     "metadata": {
      "needs_background": "light"
     },
     "output_type": "display_data"
    },
    {
     "data": {
      "image/png": "[encoded data removed]",
      "text/plain": [
       "<Figure size 432x288 with 1 Axes>"
      ]
     },
     "metadata": {
      "needs_background": "light"
     },
     "output_type": "display_data"
    }
   ],
   "source": [
    "ConfusionMatrixDisplay.from_predictions(y_test, dt_pred)\n",
    "RocCurveDisplay.from_predictions(y_test, dt_pred)"
   ]
  },
  {
   "cell_type": "markdown",
   "id": "3351108b",
   "metadata": {},
   "source": [
    "### Random Forest Classifier"
   ]
  },
  {
   "cell_type": "code",
   "execution_count": 29,
   "id": "19c1afd6",
   "metadata": {},
   "outputs": [],
   "source": [
    "#Create the model\n",
    "rf = RandomForestClassifier(n_estimators = 1200, max_depth = 25, min_samples_leaf = 1, \n",
    "                            min_samples_split = 2, random_state = 42)\n",
    "#Train the model\n",
    "rf.fit(X_train, y_train)\n",
    "#Make prediction\n",
    "rf_pred = rf.predict(X_test)"
   ]
  },
  {
   "cell_type": "code",
   "execution_count": 30,
   "id": "1c391c5f",
   "metadata": {},
   "outputs": [
    {
     "name": "stdout",
     "output_type": "stream",
     "text": [
      "Accuracy Score: 0.9680162208123487\n",
      "AUC Score 0.9682025112849334\n",
      "classification Report:\n",
      "               precision    recall  f1-score   support\n",
      "\n",
      "           0       0.95      0.98      0.97      7540\n",
      "           1       0.98      0.95      0.97      7749\n",
      "\n",
      "    accuracy                           0.97     15289\n",
      "   macro avg       0.97      0.97      0.97     15289\n",
      "weighted avg       0.97      0.97      0.97     15289\n",
      "\n",
      "confusion Matrix:\n",
      " [[7403  137]\n",
      " [ 352 7397]]\n"
     ]
    }
   ],
   "source": [
    "print(\"Accuracy Score:\",accuracy_score(y_test, rf_pred))\n",
    "print(\"AUC Score\",roc_auc_score(y_test, rf_pred))\n",
    "print(\"classification Report:\\n\",classification_report(y_test, rf_pred))\n",
    "print(\"confusion Matrix:\\n\",confusion_matrix(y_test, rf_pred))"
   ]
  },
  {
   "cell_type": "code",
   "execution_count": 31,
   "id": "3556c38f",
   "metadata": {},
   "outputs": [
    {
     "name": "stdout",
     "output_type": "stream",
     "text": [
      "Precision Score 0.9818157685160606\n",
      "Recall Score 0.9545747838430765\n"
     ]
    }
   ],
   "source": [
    "#Satisfied\n",
    "print(\"Precision Score\",precision_score(y_test, rf_pred))\n",
    "print(\"Recall Score\",recall_score(y_test, rf_pred))"
   ]
  },
  {
   "cell_type": "code",
   "execution_count": 32,
   "id": "583e3fb9",
   "metadata": {},
   "outputs": [
    {
     "name": "stdout",
     "output_type": "stream",
     "text": [
      "Precision Score 0.9546099290780142\n",
      "Recall Score 0.9818302387267904\n"
     ]
    }
   ],
   "source": [
    "#Neutral or dissatisfied\n",
    "print(\"Precision Score\",precision_score(y_test, rf_pred, pos_label=0))\n",
    "print(\"Recall Score\",recall_score(y_test, rf_pred, pos_label=0))"
   ]
  },
  {
   "cell_type": "code",
   "execution_count": 33,
   "id": "1ead518a",
   "metadata": {},
   "outputs": [
    {
     "data": {
      "text/plain": [
       "<sklearn.metrics._plot.roc_curve.RocCurveDisplay at 0x23e0128f6d0>"
      ]
     },
     "execution_count": 33,
     "metadata": {},
     "output_type": "execute_result"
    },
    {
     "data": {
      "image/png": "[encoded data removed]",
      "text/plain": [
       "<Figure size 432x288 with 2 Axes>"
      ]
     },
     "metadata": {
      "needs_background": "light"
     },
     "output_type": "display_data"
    },
    {
     "data": {
      "image/png": "[encoded data removed]",
      "text/plain": [
       "<Figure size 432x288 with 1 Axes>"
      ]
     },
     "metadata": {
      "needs_background": "light"
     },
     "output_type": "display_data"
    }
   ],
   "source": [
    "ConfusionMatrixDisplay.from_predictions(y_test, rf_pred)\n",
    "RocCurveDisplay.from_predictions(y_test, rf_pred)"
   ]
  },
  {
   "cell_type": "markdown",
   "id": "cbd15c3e",
   "metadata": {},
   "source": [
    "### Support Vector Classifier"
   ]
  },
  {
   "cell_type": "code",
   "execution_count": 34,
   "id": "4d32ec0b",
   "metadata": {},
   "outputs": [],
   "source": [
    "#Create the model\n",
    "svc = SVC(gamma = 'auto')\n",
    "#Train the model\n",
    "svc.fit(X_train, y_train)\n",
    "#Make prediction\n",
    "svc_pred = svc.predict(X_test)"
   ]
  },
  {
   "cell_type": "code",
   "execution_count": 35,
   "id": "75112d25",
   "metadata": {},
   "outputs": [
    {
     "name": "stdout",
     "output_type": "stream",
     "text": [
      "Accuracy Score: 0.9598404081365688\n",
      "AUC Score 0.9599956595751381\n",
      "classification Report:\n",
      "               precision    recall  f1-score   support\n",
      "\n",
      "           0       0.95      0.97      0.96      7540\n",
      "           1       0.97      0.95      0.96      7749\n",
      "\n",
      "    accuracy                           0.96     15289\n",
      "   macro avg       0.96      0.96      0.96     15289\n",
      "weighted avg       0.96      0.96      0.96     15289\n",
      "\n",
      "confusion Matrix:\n",
      " [[7324  216]\n",
      " [ 398 7351]]\n"
     ]
    }
   ],
   "source": [
    "print(\"Accuracy Score:\",accuracy_score(y_test, svc_pred))\n",
    "print(\"AUC Score\",roc_auc_score(y_test, svc_pred))\n",
    "print(\"classification Report:\\n\",classification_report(y_test, svc_pred))\n",
    "print(\"confusion Matrix:\\n\",confusion_matrix(y_test, svc_pred))"
   ]
  },
  {
   "cell_type": "code",
   "execution_count": 36,
   "id": "72da16b2",
   "metadata": {},
   "outputs": [
    {
     "name": "stdout",
     "output_type": "stream",
     "text": [
      "Precision Score 0.9714550019822915\n",
      "Recall Score 0.9486385340043877\n"
     ]
    }
   ],
   "source": [
    "#Satisfied\n",
    "print(\"Precision Score\",precision_score(y_test, svc_pred))\n",
    "print(\"Recall Score\",recall_score(y_test, svc_pred))"
   ]
  },
  {
   "cell_type": "code",
   "execution_count": 37,
   "id": "1ba9ee0d",
   "metadata": {},
   "outputs": [
    {
     "name": "stdout",
     "output_type": "stream",
     "text": [
      "Precision Score 0.9484589484589485\n",
      "Recall Score 0.9713527851458886\n"
     ]
    }
   ],
   "source": [
    "#Neutral or dissatisfied\n",
    "print(\"Precision Score\",precision_score(y_test, svc_pred, pos_label=0))\n",
    "print(\"Recall Score\",recall_score(y_test, svc_pred, pos_label=0))"
   ]
  },
  {
   "cell_type": "code",
   "execution_count": 38,
   "id": "ccd25be4",
   "metadata": {},
   "outputs": [
    {
     "data": {
      "text/plain": [
       "<sklearn.metrics._plot.roc_curve.RocCurveDisplay at 0x23e01bd8160>"
      ]
     },
     "execution_count": 38,
     "metadata": {},
     "output_type": "execute_result"
    },
    {
     "data": {
      "image/png": "[encoded data removed]",
      "text/plain": [
       "<Figure size 432x288 with 2 Axes>"
      ]
     },
     "metadata": {
      "needs_background": "light"
     },
     "output_type": "display_data"
    },
    {
     "data": {
      "image/png": "[encoded data removed]",
      "text/plain": [
       "<Figure size 432x288 with 1 Axes>"
      ]
     },
     "metadata": {
      "needs_background": "light"
     },
     "output_type": "display_data"
    }
   ],
   "source": [
    "ConfusionMatrixDisplay.from_predictions(y_test, svc_pred)\n",
    "RocCurveDisplay.from_predictions(y_test, svc_pred)"
   ]
  },
  {
   "cell_type": "markdown",
   "id": "dee32bf6",
   "metadata": {},
   "source": [
    "### Extreme Gradient Boosting"
   ]
  },
  {
   "cell_type": "code",
   "execution_count": 39,
   "id": "72e9917f",
   "metadata": {},
   "outputs": [],
   "source": [
    "#Create the model\n",
    "xgb = XGBClassifier(n_estimators = 500, max_depth = 16)\n",
    "#Train the model\n",
    "xgb.fit(X_train, y_train)\n",
    "#Make prediction\n",
    "xgb_pred = xgb.predict(X_test)"
   ]
  },
  {
   "cell_type": "code",
   "execution_count": 40,
   "id": "ae84c34e",
   "metadata": {},
   "outputs": [
    {
     "name": "stdout",
     "output_type": "stream",
     "text": [
      "Accuracy Score: 0.9669043102884427\n",
      "AUC Score 0.9670268996803899\n",
      "classification Report:\n",
      "               precision    recall  f1-score   support\n",
      "\n",
      "           0       0.96      0.98      0.97      7540\n",
      "           1       0.98      0.96      0.97      7749\n",
      "\n",
      "    accuracy                           0.97     15289\n",
      "   macro avg       0.97      0.97      0.97     15289\n",
      "weighted avg       0.97      0.97      0.97     15289\n",
      "\n",
      "confusion Matrix:\n",
      " [[7359  181]\n",
      " [ 325 7424]]\n"
     ]
    }
   ],
   "source": [
    "print(\"Accuracy Score:\",accuracy_score(y_test, xgb_pred))\n",
    "print(\"AUC Score\",roc_auc_score(y_test, xgb_pred))\n",
    "print(\"classification Report:\\n\",classification_report(y_test, xgb_pred))\n",
    "print(\"confusion Matrix:\\n\",confusion_matrix(y_test, xgb_pred))"
   ]
  },
  {
   "cell_type": "code",
   "execution_count": 41,
   "id": "5907c372",
   "metadata": {},
   "outputs": [
    {
     "name": "stdout",
     "output_type": "stream",
     "text": [
      "Precision Score 0.9761998685075608\n",
      "Recall Score 0.9580591044005679\n"
     ]
    }
   ],
   "source": [
    "#Satisfied\n",
    "print(\"Precision Score\",precision_score(y_test, xgb_pred))\n",
    "print(\"Recall Score\",recall_score(y_test, xgb_pred))"
   ]
  },
  {
   "cell_type": "code",
   "execution_count": 42,
   "id": "d3021362",
   "metadata": {},
   "outputs": [
    {
     "name": "stdout",
     "output_type": "stream",
     "text": [
      "Precision Score 0.9577043206663196\n",
      "Recall Score 0.9759946949602122\n"
     ]
    }
   ],
   "source": [
    "#Neutral or dissatisfied\n",
    "print(\"Precision Score\",precision_score(y_test, xgb_pred, pos_label=0))\n",
    "print(\"Recall Score\",recall_score(y_test, xgb_pred, pos_label=0))"
   ]
  },
  {
   "cell_type": "code",
   "execution_count": 43,
   "id": "43e24a2f",
   "metadata": {
    "scrolled": true
   },
   "outputs": [
    {
     "data": {
      "text/plain": [
       "<sklearn.metrics._plot.roc_curve.RocCurveDisplay at 0x23e01cf9310>"
      ]
     },
     "execution_count": 43,
     "metadata": {},
     "output_type": "execute_result"
    },
    {
     "data": {
      "image/png": "[encoded data removed]",
      "text/plain": [
       "<Figure size 432x288 with 2 Axes>"
      ]
     },
     "metadata": {
      "needs_background": "light"
     },
     "output_type": "display_data"
    },
    {
     "data": {
      "image/png": "[encoded data removed]",
      "text/plain": [
       "<Figure size 432x288 with 1 Axes>"
      ]
     },
     "metadata": {
      "needs_background": "light"
     },
     "output_type": "display_data"
    }
   ],
   "source": [
    "ConfusionMatrixDisplay.from_predictions(y_test, xgb_pred)\n",
    "RocCurveDisplay.from_predictions(y_test, xgb_pred)"
   ]
  },
  {
   "cell_type": "markdown",
   "id": "9a245498",
   "metadata": {},
   "source": [
    "### Light Gradient Boosted Machine"
   ]
  },
  {
   "cell_type": "code",
   "execution_count": 44,
   "id": "13604fa8",
   "metadata": {},
   "outputs": [],
   "source": [
    "#Create the model\n",
    "lgb = LGBMClassifier(colsample_bytree = 0.85, max_depth = 15, min_split_gain = 0.1, \n",
    "                     n_estimators = 200, num_leaves = 50, reg_alpha = 1.2, \n",
    "                     reg_lambda = 1.2, subsample = 0.95, subsample_freq = 20)\n",
    "#Train the model\n",
    "lgb.fit(X_train, y_train)\n",
    "#Make prediction\n",
    "lgb_pred = lgb.predict(X_test)"
   ]
  },
  {
   "cell_type": "code",
   "execution_count": 45,
   "id": "70c0ed40",
   "metadata": {},
   "outputs": [
    {
     "name": "stdout",
     "output_type": "stream",
     "text": [
      "Accuracy Score: 0.9701092288573484\n",
      "AUC Score 0.9703316813703692\n",
      "classification Report:\n",
      "               precision    recall  f1-score   support\n",
      "\n",
      "           0       0.95      0.99      0.97      7540\n",
      "           1       0.99      0.95      0.97      7749\n",
      "\n",
      "    accuracy                           0.97     15289\n",
      "   macro avg       0.97      0.97      0.97     15289\n",
      "weighted avg       0.97      0.97      0.97     15289\n",
      "\n",
      "confusion Matrix:\n",
      " [[7439  101]\n",
      " [ 356 7393]]\n"
     ]
    }
   ],
   "source": [
    "print(\"Accuracy Score:\",accuracy_score(y_test, lgb_pred))\n",
    "print(\"AUC Score\",roc_auc_score(y_test, lgb_pred))\n",
    "print(\"classification Report:\\n\",classification_report(y_test, lgb_pred))\n",
    "print(\"confusion Matrix:\\n\",confusion_matrix(y_test, lgb_pred))"
   ]
  },
  {
   "cell_type": "code",
   "execution_count": 46,
   "id": "ec2e8ad2",
   "metadata": {},
   "outputs": [
    {
     "name": "stdout",
     "output_type": "stream",
     "text": [
      "Precision Score 0.9865225513744329\n",
      "Recall Score 0.9540585882049296\n"
     ]
    }
   ],
   "source": [
    "#Satisfied\n",
    "print(\"Precision Score\",precision_score(y_test, lgb_pred))\n",
    "print(\"Recall Score\",recall_score(y_test, lgb_pred))"
   ]
  },
  {
   "cell_type": "code",
   "execution_count": 47,
   "id": "f6bf3709",
   "metadata": {},
   "outputs": [
    {
     "name": "stdout",
     "output_type": "stream",
     "text": [
      "Precision Score 0.9543296985246953\n",
      "Recall Score 0.986604774535809\n"
     ]
    }
   ],
   "source": [
    "#Neutral or dissatisfied\n",
    "print(\"Precision Score\",precision_score(y_test, lgb_pred, pos_label=0))\n",
    "print(\"Recall Score\",recall_score(y_test, lgb_pred, pos_label=0))"
   ]
  },
  {
   "cell_type": "code",
   "execution_count": 48,
   "id": "a0e59e98",
   "metadata": {},
   "outputs": [
    {
     "data": {
      "text/plain": [
       "<sklearn.metrics._plot.roc_curve.RocCurveDisplay at 0x23e01e16610>"
      ]
     },
     "execution_count": 48,
     "metadata": {},
     "output_type": "execute_result"
    },
    {
     "data": {
      "image/png": "[encoded data removed]",
      "text/plain": [
       "<Figure size 432x288 with 2 Axes>"
      ]
     },
     "metadata": {
      "needs_background": "light"
     },
     "output_type": "display_data"
    },
    {
     "data": {
      "image/png": "[encoded data removed]",
      "text/plain": [
       "<Figure size 432x288 with 1 Axes>"
      ]
     },
     "metadata": {
      "needs_background": "light"
     },
     "output_type": "display_data"
    }
   ],
   "source": [
    "ConfusionMatrixDisplay.from_predictions(y_test, lgb_pred)\n",
    "RocCurveDisplay.from_predictions(y_test, lgb_pred)"
   ]
  },
  {
   "cell_type": "markdown",
   "id": "3540d67c",
   "metadata": {},
   "source": [
    "### Adaptive Gradient Boosting"
   ]
  },
  {
   "cell_type": "code",
   "execution_count": 49,
   "id": "fce67a3e",
   "metadata": {},
   "outputs": [],
   "source": [
    "#Create the model\n",
    "ada = AdaBoostClassifier(learning_rate = 1.0, n_estimators = 100)\n",
    "#Train the model\n",
    "ada.fit(X_train, y_train)\n",
    "#Make prediction\n",
    "ada_pred = ada.predict(X_test)"
   ]
  },
  {
   "cell_type": "code",
   "execution_count": 50,
   "id": "bccd2e4f",
   "metadata": {},
   "outputs": [
    {
     "name": "stdout",
     "output_type": "stream",
     "text": [
      "Accuracy Score: 0.9364902871345412\n",
      "AUC Score 0.9364882539819461\n",
      "classification Report:\n",
      "               precision    recall  f1-score   support\n",
      "\n",
      "           0       0.93      0.94      0.94      7540\n",
      "           1       0.94      0.94      0.94      7749\n",
      "\n",
      "    accuracy                           0.94     15289\n",
      "   macro avg       0.94      0.94      0.94     15289\n",
      "weighted avg       0.94      0.94      0.94     15289\n",
      "\n",
      "confusion Matrix:\n",
      " [[7060  480]\n",
      " [ 491 7258]]\n"
     ]
    }
   ],
   "source": [
    "print(\"Accuracy Score:\",accuracy_score(y_test, ada_pred))\n",
    "print(\"AUC Score\",roc_auc_score(y_test, ada_pred))\n",
    "print(\"classification Report:\\n\",classification_report(y_test, ada_pred))\n",
    "print(\"confusion Matrix:\\n\",confusion_matrix(y_test, ada_pred))"
   ]
  },
  {
   "cell_type": "code",
   "execution_count": 51,
   "id": "d2992fa2",
   "metadata": {},
   "outputs": [
    {
     "name": "stdout",
     "output_type": "stream",
     "text": [
      "Precision Score 0.937968467304213\n",
      "Recall Score 0.9366369854174732\n"
     ]
    }
   ],
   "source": [
    "#Satisfied\n",
    "print(\"Precision Score\",precision_score(y_test, ada_pred))\n",
    "print(\"Recall Score\",recall_score(y_test, ada_pred))"
   ]
  },
  {
   "cell_type": "code",
   "execution_count": 52,
   "id": "e6f9e06d",
   "metadata": {},
   "outputs": [
    {
     "name": "stdout",
     "output_type": "stream",
     "text": [
      "Precision Score 0.9349754999337836\n",
      "Recall Score 0.9363395225464191\n"
     ]
    }
   ],
   "source": [
    "#Neutral or dissatisfied\n",
    "print(\"Precision Score\",precision_score(y_test, ada_pred, pos_label=0))\n",
    "print(\"Recall Score\",recall_score(y_test, ada_pred, pos_label=0))"
   ]
  },
  {
   "cell_type": "code",
   "execution_count": 53,
   "id": "4f6f3642",
   "metadata": {},
   "outputs": [
    {
     "data": {
      "text/plain": [
       "<sklearn.metrics._plot.roc_curve.RocCurveDisplay at 0x23e01f38700>"
      ]
     },
     "execution_count": 53,
     "metadata": {},
     "output_type": "execute_result"
    },
    {
     "data": {
      "image/png": "[encoded data removed]",
      "text/plain": [
       "<Figure size 432x288 with 2 Axes>"
      ]
     },
     "metadata": {
      "needs_background": "light"
     },
     "output_type": "display_data"
    },
    {
     "data": {
      "image/png": "[encoded data removed]",
      "text/plain": [
       "<Figure size 432x288 with 1 Axes>"
      ]
     },
     "metadata": {
      "needs_background": "light"
     },
     "output_type": "display_data"
    }
   ],
   "source": [
    "ConfusionMatrixDisplay.from_predictions(y_test, ada_pred)\n",
    "RocCurveDisplay.from_predictions(y_test, ada_pred)"
   ]
  },
  {
   "cell_type": "markdown",
   "id": "58d874c1",
   "metadata": {},
   "source": [
    "### Category Boosting"
   ]
  },
  {
   "cell_type": "code",
   "execution_count": 54,
   "id": "04fe0a46",
   "metadata": {},
   "outputs": [
    {
     "name": "stdout",
     "output_type": "stream",
     "text": [
      "0:\tlearn: 0.6674431\ttotal: 81.7ms\tremaining: 1m 21s\n",
      "1:\tlearn: 0.6429799\ttotal: 94.5ms\tremaining: 47.1s\n",
      "2:\tlearn: 0.6275680\ttotal: 105ms\tremaining: 35s\n",
      "3:\tlearn: 0.6122031\ttotal: 116ms\tremaining: 29s\n",
      "4:\tlearn: 0.5922027\ttotal: 127ms\tremaining: 25.4s\n",
      "5:\tlearn: 0.5731570\ttotal: 139ms\tremaining: 22.9s\n",
      "6:\tlearn: 0.5596450\ttotal: 150ms\tremaining: 21.3s\n",
      "7:\tlearn: 0.5412754\ttotal: 161ms\tremaining: 20s\n",
      "8:\tlearn: 0.5293310\ttotal: 172ms\tremaining: 18.9s\n",
      "9:\tlearn: 0.5118095\ttotal: 183ms\tremaining: 18.1s\n",
      "10:\tlearn: 0.4994574\ttotal: 194ms\tremaining: 17.4s\n",
      "11:\tlearn: 0.4827004\ttotal: 205ms\tremaining: 16.8s\n",
      "12:\tlearn: 0.4668356\ttotal: 215ms\tremaining: 16.3s\n",
      "13:\tlearn: 0.4571411\ttotal: 226ms\tremaining: 15.9s\n",
      "14:\tlearn: 0.4478313\ttotal: 237ms\tremaining: 15.5s\n",
      "15:\tlearn: 0.4340580\ttotal: 247ms\tremaining: 15.2s\n",
      "16:\tlearn: 0.4254160\ttotal: 258ms\tremaining: 14.9s\n",
      "17:\tlearn: 0.4181989\ttotal: 270ms\tremaining: 14.7s\n",
      "18:\tlearn: 0.4119306\ttotal: 280ms\tremaining: 14.5s\n",
      "19:\tlearn: 0.3999286\ttotal: 291ms\tremaining: 14.3s\n",
      "20:\tlearn: 0.3935058\ttotal: 301ms\tremaining: 14.1s\n",
      "21:\tlearn: 0.3852658\ttotal: 312ms\tremaining: 13.9s\n",
      "22:\tlearn: 0.3745585\ttotal: 323ms\tremaining: 13.7s\n",
      "23:\tlearn: 0.3678191\ttotal: 334ms\tremaining: 13.6s\n",
      "24:\tlearn: 0.3613809\ttotal: 345ms\tremaining: 13.4s\n",
      "25:\tlearn: 0.3552341\ttotal: 356ms\tremaining: 13.3s\n",
      "26:\tlearn: 0.3499804\ttotal: 369ms\tremaining: 13.3s\n",
      "27:\tlearn: 0.3409015\ttotal: 381ms\tremaining: 13.2s\n",
      "28:\tlearn: 0.3353900\ttotal: 392ms\tremaining: 13.1s\n",
      "29:\tlearn: 0.3271907\ttotal: 403ms\tremaining: 13s\n",
      "30:\tlearn: 0.3221140\ttotal: 414ms\tremaining: 12.9s\n",
      "31:\tlearn: 0.3169787\ttotal: 426ms\tremaining: 12.9s\n",
      "32:\tlearn: 0.3095618\ttotal: 437ms\tremaining: 12.8s\n",
      "33:\tlearn: 0.3053039\ttotal: 449ms\tremaining: 12.8s\n",
      "34:\tlearn: 0.3007955\ttotal: 461ms\tremaining: 12.7s\n",
      "35:\tlearn: 0.2958292\ttotal: 472ms\tremaining: 12.6s\n",
      "36:\tlearn: 0.2920713\ttotal: 483ms\tremaining: 12.6s\n",
      "37:\tlearn: 0.2876956\ttotal: 495ms\tremaining: 12.5s\n",
      "38:\tlearn: 0.2833382\ttotal: 507ms\tremaining: 12.5s\n",
      "39:\tlearn: 0.2794563\ttotal: 518ms\tremaining: 12.4s\n",
      "40:\tlearn: 0.2735108\ttotal: 530ms\tremaining: 12.4s\n",
      "41:\tlearn: 0.2698498\ttotal: 541ms\tremaining: 12.3s\n",
      "42:\tlearn: 0.2664482\ttotal: 553ms\tremaining: 12.3s\n",
      "43:\tlearn: 0.2632317\ttotal: 564ms\tremaining: 12.3s\n",
      "44:\tlearn: 0.2604761\ttotal: 575ms\tremaining: 12.2s\n",
      "45:\tlearn: 0.2556539\ttotal: 586ms\tremaining: 12.1s\n",
      "46:\tlearn: 0.2525917\ttotal: 597ms\tremaining: 12.1s\n",
      "47:\tlearn: 0.2497223\ttotal: 607ms\tremaining: 12s\n",
      "48:\tlearn: 0.2469526\ttotal: 618ms\tremaining: 12s\n",
      "49:\tlearn: 0.2445562\ttotal: 629ms\tremaining: 11.9s\n",
      "50:\tlearn: 0.2420708\ttotal: 639ms\tremaining: 11.9s\n",
      "51:\tlearn: 0.2396746\ttotal: 651ms\tremaining: 11.9s\n",
      "52:\tlearn: 0.2352625\ttotal: 662ms\tremaining: 11.8s\n",
      "53:\tlearn: 0.2329866\ttotal: 673ms\tremaining: 11.8s\n",
      "54:\tlearn: 0.2301856\ttotal: 684ms\tremaining: 11.8s\n",
      "55:\tlearn: 0.2280735\ttotal: 696ms\tremaining: 11.7s\n",
      "56:\tlearn: 0.2260064\ttotal: 708ms\tremaining: 11.7s\n",
      "57:\tlearn: 0.2240060\ttotal: 720ms\tremaining: 11.7s\n",
      "58:\tlearn: 0.2218332\ttotal: 732ms\tremaining: 11.7s\n",
      "59:\tlearn: 0.2195094\ttotal: 743ms\tremaining: 11.6s\n",
      "60:\tlearn: 0.2175517\ttotal: 755ms\tremaining: 11.6s\n",
      "61:\tlearn: 0.2152911\ttotal: 766ms\tremaining: 11.6s\n",
      "62:\tlearn: 0.2129418\ttotal: 777ms\tremaining: 11.6s\n",
      "63:\tlearn: 0.2095225\ttotal: 788ms\tremaining: 11.5s\n",
      "64:\tlearn: 0.2064165\ttotal: 798ms\tremaining: 11.5s\n",
      "65:\tlearn: 0.2034720\ttotal: 809ms\tremaining: 11.4s\n",
      "66:\tlearn: 0.2014805\ttotal: 820ms\tremaining: 11.4s\n",
      "67:\tlearn: 0.1995705\ttotal: 831ms\tremaining: 11.4s\n",
      "68:\tlearn: 0.1978450\ttotal: 845ms\tremaining: 11.4s\n",
      "69:\tlearn: 0.1963523\ttotal: 856ms\tremaining: 11.4s\n",
      "70:\tlearn: 0.1948171\ttotal: 868ms\tremaining: 11.4s\n",
      "71:\tlearn: 0.1931249\ttotal: 879ms\tremaining: 11.3s\n",
      "72:\tlearn: 0.1918990\ttotal: 892ms\tremaining: 11.3s\n",
      "73:\tlearn: 0.1905578\ttotal: 905ms\tremaining: 11.3s\n",
      "74:\tlearn: 0.1893520\ttotal: 917ms\tremaining: 11.3s\n",
      "75:\tlearn: 0.1881516\ttotal: 928ms\tremaining: 11.3s\n",
      "76:\tlearn: 0.1866771\ttotal: 940ms\tremaining: 11.3s\n",
      "77:\tlearn: 0.1851576\ttotal: 952ms\tremaining: 11.3s\n",
      "78:\tlearn: 0.1837007\ttotal: 965ms\tremaining: 11.2s\n",
      "79:\tlearn: 0.1822676\ttotal: 977ms\tremaining: 11.2s\n",
      "80:\tlearn: 0.1811963\ttotal: 991ms\tremaining: 11.2s\n",
      "81:\tlearn: 0.1791125\ttotal: 1s\tremaining: 11.2s\n",
      "82:\tlearn: 0.1767753\ttotal: 1.01s\tremaining: 11.2s\n",
      "83:\tlearn: 0.1756512\ttotal: 1.02s\tremaining: 11.2s\n",
      "84:\tlearn: 0.1747322\ttotal: 1.04s\tremaining: 11.2s\n",
      "85:\tlearn: 0.1737700\ttotal: 1.05s\tremaining: 11.2s\n",
      "86:\tlearn: 0.1726861\ttotal: 1.06s\tremaining: 11.1s\n",
      "87:\tlearn: 0.1707291\ttotal: 1.07s\tremaining: 11.1s\n",
      "88:\tlearn: 0.1698702\ttotal: 1.08s\tremaining: 11.1s\n",
      "89:\tlearn: 0.1678657\ttotal: 1.09s\tremaining: 11.1s\n",
      "90:\tlearn: 0.1660983\ttotal: 1.11s\tremaining: 11.1s\n",
      "91:\tlearn: 0.1653024\ttotal: 1.12s\tremaining: 11s\n",
      "92:\tlearn: 0.1643261\ttotal: 1.13s\tremaining: 11s\n",
      "93:\tlearn: 0.1633399\ttotal: 1.14s\tremaining: 11s\n",
      "94:\tlearn: 0.1626033\ttotal: 1.15s\tremaining: 11s\n",
      "95:\tlearn: 0.1619771\ttotal: 1.16s\tremaining: 10.9s\n",
      "96:\tlearn: 0.1612032\ttotal: 1.17s\tremaining: 10.9s\n",
      "97:\tlearn: 0.1604531\ttotal: 1.18s\tremaining: 10.9s\n",
      "98:\tlearn: 0.1597891\ttotal: 1.19s\tremaining: 10.9s\n",
      "99:\tlearn: 0.1589391\ttotal: 1.21s\tremaining: 10.8s\n",
      "100:\tlearn: 0.1581718\ttotal: 1.22s\tremaining: 10.8s\n",
      "101:\tlearn: 0.1574620\ttotal: 1.23s\tremaining: 10.8s\n",
      "102:\tlearn: 0.1566563\ttotal: 1.24s\tremaining: 10.8s\n",
      "103:\tlearn: 0.1557292\ttotal: 1.25s\tremaining: 10.8s\n",
      "104:\tlearn: 0.1549607\ttotal: 1.26s\tremaining: 10.8s\n",
      "105:\tlearn: 0.1543047\ttotal: 1.27s\tremaining: 10.8s\n",
      "106:\tlearn: 0.1536765\ttotal: 1.29s\tremaining: 10.7s\n",
      "107:\tlearn: 0.1530271\ttotal: 1.3s\tremaining: 10.7s\n",
      "108:\tlearn: 0.1524596\ttotal: 1.31s\tremaining: 10.7s\n",
      "109:\tlearn: 0.1516614\ttotal: 1.32s\tremaining: 10.7s\n",
      "110:\tlearn: 0.1507611\ttotal: 1.33s\tremaining: 10.7s\n",
      "111:\tlearn: 0.1500524\ttotal: 1.34s\tremaining: 10.7s\n",
      "112:\tlearn: 0.1494778\ttotal: 1.36s\tremaining: 10.6s\n",
      "113:\tlearn: 0.1489221\ttotal: 1.37s\tremaining: 10.6s\n",
      "114:\tlearn: 0.1483577\ttotal: 1.38s\tremaining: 10.6s\n",
      "115:\tlearn: 0.1478279\ttotal: 1.39s\tremaining: 10.6s\n",
      "116:\tlearn: 0.1464842\ttotal: 1.4s\tremaining: 10.6s\n",
      "117:\tlearn: 0.1460283\ttotal: 1.41s\tremaining: 10.5s\n",
      "118:\tlearn: 0.1447043\ttotal: 1.42s\tremaining: 10.5s\n",
      "119:\tlearn: 0.1441036\ttotal: 1.43s\tremaining: 10.5s\n",
      "120:\tlearn: 0.1436776\ttotal: 1.44s\tremaining: 10.5s\n",
      "121:\tlearn: 0.1432980\ttotal: 1.46s\tremaining: 10.5s\n",
      "122:\tlearn: 0.1422860\ttotal: 1.47s\tremaining: 10.5s\n",
      "123:\tlearn: 0.1417107\ttotal: 1.48s\tremaining: 10.4s\n",
      "124:\tlearn: 0.1411319\ttotal: 1.49s\tremaining: 10.4s\n",
      "125:\tlearn: 0.1405871\ttotal: 1.5s\tremaining: 10.4s\n",
      "126:\tlearn: 0.1399272\ttotal: 1.51s\tremaining: 10.4s\n",
      "127:\tlearn: 0.1395154\ttotal: 1.52s\tremaining: 10.4s\n",
      "128:\tlearn: 0.1389461\ttotal: 1.53s\tremaining: 10.3s\n",
      "129:\tlearn: 0.1378794\ttotal: 1.54s\tremaining: 10.3s\n",
      "130:\tlearn: 0.1374021\ttotal: 1.55s\tremaining: 10.3s\n",
      "131:\tlearn: 0.1369135\ttotal: 1.56s\tremaining: 10.3s\n",
      "132:\tlearn: 0.1363730\ttotal: 1.57s\tremaining: 10.3s\n",
      "133:\tlearn: 0.1359894\ttotal: 1.59s\tremaining: 10.3s\n",
      "134:\tlearn: 0.1355319\ttotal: 1.6s\tremaining: 10.2s\n",
      "135:\tlearn: 0.1351950\ttotal: 1.61s\tremaining: 10.2s\n",
      "136:\tlearn: 0.1348199\ttotal: 1.63s\tremaining: 10.3s\n",
      "137:\tlearn: 0.1343963\ttotal: 1.64s\tremaining: 10.2s\n",
      "138:\tlearn: 0.1339103\ttotal: 1.65s\tremaining: 10.2s\n",
      "139:\tlearn: 0.1336089\ttotal: 1.67s\tremaining: 10.2s\n",
      "140:\tlearn: 0.1332339\ttotal: 1.68s\tremaining: 10.2s\n",
      "141:\tlearn: 0.1329594\ttotal: 1.69s\tremaining: 10.2s\n",
      "142:\tlearn: 0.1325279\ttotal: 1.7s\tremaining: 10.2s\n",
      "143:\tlearn: 0.1321860\ttotal: 1.72s\tremaining: 10.2s\n",
      "144:\tlearn: 0.1318680\ttotal: 1.73s\tremaining: 10.2s\n",
      "145:\tlearn: 0.1314608\ttotal: 1.74s\tremaining: 10.2s\n",
      "146:\tlearn: 0.1310659\ttotal: 1.75s\tremaining: 10.2s\n",
      "147:\tlearn: 0.1306820\ttotal: 1.76s\tremaining: 10.1s\n",
      "148:\tlearn: 0.1302376\ttotal: 1.77s\tremaining: 10.1s\n",
      "149:\tlearn: 0.1299476\ttotal: 1.78s\tremaining: 10.1s\n",
      "150:\tlearn: 0.1295550\ttotal: 1.79s\tremaining: 10.1s\n",
      "151:\tlearn: 0.1291899\ttotal: 1.8s\tremaining: 10.1s\n",
      "152:\tlearn: 0.1288296\ttotal: 1.82s\tremaining: 10.1s\n",
      "153:\tlearn: 0.1285117\ttotal: 1.83s\tremaining: 10s\n",
      "154:\tlearn: 0.1282876\ttotal: 1.84s\tremaining: 10s\n",
      "155:\tlearn: 0.1279435\ttotal: 1.85s\tremaining: 10s\n",
      "156:\tlearn: 0.1276204\ttotal: 1.86s\tremaining: 9.99s\n",
      "157:\tlearn: 0.1270962\ttotal: 1.87s\tremaining: 9.99s\n",
      "158:\tlearn: 0.1268262\ttotal: 1.89s\tremaining: 9.99s\n",
      "159:\tlearn: 0.1265005\ttotal: 1.9s\tremaining: 9.98s\n",
      "160:\tlearn: 0.1261350\ttotal: 1.91s\tremaining: 9.97s\n",
      "161:\tlearn: 0.1256861\ttotal: 1.93s\tremaining: 9.96s\n",
      "162:\tlearn: 0.1253584\ttotal: 1.94s\tremaining: 9.96s\n",
      "163:\tlearn: 0.1250625\ttotal: 1.95s\tremaining: 9.95s\n",
      "164:\tlearn: 0.1247561\ttotal: 1.97s\tremaining: 9.95s\n",
      "165:\tlearn: 0.1242482\ttotal: 1.98s\tremaining: 9.94s\n",
      "166:\tlearn: 0.1239189\ttotal: 1.99s\tremaining: 9.93s\n",
      "167:\tlearn: 0.1236703\ttotal: 2s\tremaining: 9.93s\n",
      "168:\tlearn: 0.1233439\ttotal: 2.02s\tremaining: 9.92s\n",
      "169:\tlearn: 0.1231038\ttotal: 2.03s\tremaining: 9.91s\n",
      "170:\tlearn: 0.1228719\ttotal: 2.04s\tremaining: 9.9s\n"
     ]
    },
    {
     "name": "stdout",
     "output_type": "stream",
     "text": [
      "171:\tlearn: 0.1225322\ttotal: 2.05s\tremaining: 9.88s\n",
      "172:\tlearn: 0.1222311\ttotal: 2.06s\tremaining: 9.87s\n",
      "173:\tlearn: 0.1219613\ttotal: 2.07s\tremaining: 9.85s\n",
      "174:\tlearn: 0.1214782\ttotal: 2.08s\tremaining: 9.83s\n",
      "175:\tlearn: 0.1212022\ttotal: 2.1s\tremaining: 9.81s\n",
      "176:\tlearn: 0.1210027\ttotal: 2.11s\tremaining: 9.79s\n",
      "177:\tlearn: 0.1208090\ttotal: 2.12s\tremaining: 9.78s\n",
      "178:\tlearn: 0.1205118\ttotal: 2.13s\tremaining: 9.76s\n",
      "179:\tlearn: 0.1202594\ttotal: 2.14s\tremaining: 9.74s\n",
      "180:\tlearn: 0.1199637\ttotal: 2.15s\tremaining: 9.72s\n",
      "181:\tlearn: 0.1195300\ttotal: 2.16s\tremaining: 9.71s\n",
      "182:\tlearn: 0.1193531\ttotal: 2.17s\tremaining: 9.69s\n",
      "183:\tlearn: 0.1191648\ttotal: 2.18s\tremaining: 9.67s\n",
      "184:\tlearn: 0.1190017\ttotal: 2.19s\tremaining: 9.65s\n",
      "185:\tlearn: 0.1187191\ttotal: 2.2s\tremaining: 9.64s\n",
      "186:\tlearn: 0.1184508\ttotal: 2.21s\tremaining: 9.62s\n",
      "187:\tlearn: 0.1182487\ttotal: 2.22s\tremaining: 9.6s\n",
      "188:\tlearn: 0.1180132\ttotal: 2.23s\tremaining: 9.58s\n",
      "189:\tlearn: 0.1177671\ttotal: 2.24s\tremaining: 9.57s\n",
      "190:\tlearn: 0.1175550\ttotal: 2.25s\tremaining: 9.55s\n",
      "191:\tlearn: 0.1172217\ttotal: 2.27s\tremaining: 9.54s\n",
      "192:\tlearn: 0.1169818\ttotal: 2.28s\tremaining: 9.52s\n",
      "193:\tlearn: 0.1165998\ttotal: 2.29s\tremaining: 9.5s\n",
      "194:\tlearn: 0.1164106\ttotal: 2.3s\tremaining: 9.48s\n",
      "195:\tlearn: 0.1162207\ttotal: 2.31s\tremaining: 9.46s\n",
      "196:\tlearn: 0.1160671\ttotal: 2.32s\tremaining: 9.45s\n",
      "197:\tlearn: 0.1158559\ttotal: 2.33s\tremaining: 9.43s\n",
      "198:\tlearn: 0.1155328\ttotal: 2.34s\tremaining: 9.41s\n",
      "199:\tlearn: 0.1153562\ttotal: 2.35s\tremaining: 9.4s\n",
      "200:\tlearn: 0.1152097\ttotal: 2.36s\tremaining: 9.38s\n",
      "201:\tlearn: 0.1150500\ttotal: 2.37s\tremaining: 9.37s\n",
      "202:\tlearn: 0.1149002\ttotal: 2.38s\tremaining: 9.35s\n",
      "203:\tlearn: 0.1147409\ttotal: 2.39s\tremaining: 9.33s\n",
      "204:\tlearn: 0.1145380\ttotal: 2.4s\tremaining: 9.32s\n",
      "205:\tlearn: 0.1143483\ttotal: 2.41s\tremaining: 9.3s\n",
      "206:\tlearn: 0.1141861\ttotal: 2.42s\tremaining: 9.29s\n",
      "207:\tlearn: 0.1139118\ttotal: 2.43s\tremaining: 9.27s\n",
      "208:\tlearn: 0.1137430\ttotal: 2.44s\tremaining: 9.25s\n",
      "209:\tlearn: 0.1136004\ttotal: 2.46s\tremaining: 9.24s\n",
      "210:\tlearn: 0.1133365\ttotal: 2.47s\tremaining: 9.22s\n",
      "211:\tlearn: 0.1131488\ttotal: 2.48s\tremaining: 9.21s\n",
      "212:\tlearn: 0.1130236\ttotal: 2.49s\tremaining: 9.19s\n",
      "213:\tlearn: 0.1128043\ttotal: 2.5s\tremaining: 9.18s\n",
      "214:\tlearn: 0.1123897\ttotal: 2.51s\tremaining: 9.16s\n",
      "215:\tlearn: 0.1122244\ttotal: 2.52s\tremaining: 9.15s\n",
      "216:\tlearn: 0.1120825\ttotal: 2.53s\tremaining: 9.14s\n",
      "217:\tlearn: 0.1119826\ttotal: 2.54s\tremaining: 9.12s\n",
      "218:\tlearn: 0.1118637\ttotal: 2.55s\tremaining: 9.1s\n",
      "219:\tlearn: 0.1117024\ttotal: 2.56s\tremaining: 9.09s\n",
      "220:\tlearn: 0.1115758\ttotal: 2.57s\tremaining: 9.07s\n",
      "221:\tlearn: 0.1113812\ttotal: 2.58s\tremaining: 9.06s\n",
      "222:\tlearn: 0.1111862\ttotal: 2.59s\tremaining: 9.04s\n",
      "223:\tlearn: 0.1110007\ttotal: 2.6s\tremaining: 9.03s\n",
      "224:\tlearn: 0.1107287\ttotal: 2.62s\tremaining: 9.01s\n",
      "225:\tlearn: 0.1105739\ttotal: 2.63s\tremaining: 9s\n",
      "226:\tlearn: 0.1104394\ttotal: 2.64s\tremaining: 8.99s\n",
      "227:\tlearn: 0.1103086\ttotal: 2.65s\tremaining: 8.98s\n",
      "228:\tlearn: 0.1101463\ttotal: 2.66s\tremaining: 8.96s\n",
      "229:\tlearn: 0.1099162\ttotal: 2.67s\tremaining: 8.95s\n",
      "230:\tlearn: 0.1098183\ttotal: 2.68s\tremaining: 8.93s\n",
      "231:\tlearn: 0.1097226\ttotal: 2.69s\tremaining: 8.92s\n",
      "232:\tlearn: 0.1095689\ttotal: 2.7s\tremaining: 8.9s\n",
      "233:\tlearn: 0.1095019\ttotal: 2.71s\tremaining: 8.88s\n",
      "234:\tlearn: 0.1093554\ttotal: 2.72s\tremaining: 8.87s\n",
      "235:\tlearn: 0.1092537\ttotal: 2.73s\tremaining: 8.86s\n",
      "236:\tlearn: 0.1091024\ttotal: 2.75s\tremaining: 8.85s\n",
      "237:\tlearn: 0.1089433\ttotal: 2.76s\tremaining: 8.84s\n",
      "238:\tlearn: 0.1087938\ttotal: 2.77s\tremaining: 8.83s\n",
      "239:\tlearn: 0.1086691\ttotal: 2.79s\tremaining: 8.82s\n",
      "240:\tlearn: 0.1085594\ttotal: 2.8s\tremaining: 8.81s\n",
      "241:\tlearn: 0.1084197\ttotal: 2.81s\tremaining: 8.81s\n",
      "242:\tlearn: 0.1082877\ttotal: 2.82s\tremaining: 8.8s\n",
      "243:\tlearn: 0.1081782\ttotal: 2.84s\tremaining: 8.79s\n",
      "244:\tlearn: 0.1080210\ttotal: 2.85s\tremaining: 8.78s\n",
      "245:\tlearn: 0.1079165\ttotal: 2.86s\tremaining: 8.77s\n",
      "246:\tlearn: 0.1077992\ttotal: 2.87s\tremaining: 8.76s\n",
      "247:\tlearn: 0.1075825\ttotal: 2.88s\tremaining: 8.74s\n",
      "248:\tlearn: 0.1074465\ttotal: 2.89s\tremaining: 8.72s\n",
      "249:\tlearn: 0.1073254\ttotal: 2.9s\tremaining: 8.71s\n",
      "250:\tlearn: 0.1071398\ttotal: 2.91s\tremaining: 8.7s\n",
      "251:\tlearn: 0.1070558\ttotal: 2.92s\tremaining: 8.68s\n",
      "252:\tlearn: 0.1069343\ttotal: 2.94s\tremaining: 8.67s\n",
      "253:\tlearn: 0.1068321\ttotal: 2.95s\tremaining: 8.65s\n",
      "254:\tlearn: 0.1066228\ttotal: 2.96s\tremaining: 8.64s\n",
      "255:\tlearn: 0.1063804\ttotal: 2.97s\tremaining: 8.63s\n",
      "256:\tlearn: 0.1059919\ttotal: 2.98s\tremaining: 8.61s\n",
      "257:\tlearn: 0.1058976\ttotal: 2.99s\tremaining: 8.6s\n",
      "258:\tlearn: 0.1057467\ttotal: 3s\tremaining: 8.58s\n",
      "259:\tlearn: 0.1056383\ttotal: 3.01s\tremaining: 8.57s\n",
      "260:\tlearn: 0.1055375\ttotal: 3.02s\tremaining: 8.55s\n",
      "261:\tlearn: 0.1054589\ttotal: 3.03s\tremaining: 8.54s\n",
      "262:\tlearn: 0.1053050\ttotal: 3.04s\tremaining: 8.53s\n",
      "263:\tlearn: 0.1052072\ttotal: 3.06s\tremaining: 8.52s\n",
      "264:\tlearn: 0.1051278\ttotal: 3.06s\tremaining: 8.5s\n",
      "265:\tlearn: 0.1048958\ttotal: 3.08s\tremaining: 8.49s\n",
      "266:\tlearn: 0.1047686\ttotal: 3.09s\tremaining: 8.47s\n",
      "267:\tlearn: 0.1046681\ttotal: 3.1s\tremaining: 8.46s\n",
      "268:\tlearn: 0.1045661\ttotal: 3.11s\tremaining: 8.45s\n",
      "269:\tlearn: 0.1044762\ttotal: 3.12s\tremaining: 8.43s\n",
      "270:\tlearn: 0.1043267\ttotal: 3.13s\tremaining: 8.42s\n",
      "271:\tlearn: 0.1042363\ttotal: 3.14s\tremaining: 8.4s\n",
      "272:\tlearn: 0.1040334\ttotal: 3.15s\tremaining: 8.39s\n",
      "273:\tlearn: 0.1039694\ttotal: 3.16s\tremaining: 8.37s\n",
      "274:\tlearn: 0.1038479\ttotal: 3.17s\tremaining: 8.36s\n",
      "275:\tlearn: 0.1037654\ttotal: 3.18s\tremaining: 8.35s\n",
      "276:\tlearn: 0.1036884\ttotal: 3.19s\tremaining: 8.33s\n",
      "277:\tlearn: 0.1035989\ttotal: 3.2s\tremaining: 8.32s\n",
      "278:\tlearn: 0.1034932\ttotal: 3.21s\tremaining: 8.3s\n",
      "279:\tlearn: 0.1033495\ttotal: 3.22s\tremaining: 8.29s\n",
      "280:\tlearn: 0.1032132\ttotal: 3.23s\tremaining: 8.28s\n",
      "281:\tlearn: 0.1031069\ttotal: 3.25s\tremaining: 8.26s\n",
      "282:\tlearn: 0.1030628\ttotal: 3.26s\tremaining: 8.25s\n",
      "283:\tlearn: 0.1029796\ttotal: 3.27s\tremaining: 8.23s\n",
      "284:\tlearn: 0.1028871\ttotal: 3.28s\tremaining: 8.22s\n",
      "285:\tlearn: 0.1028119\ttotal: 3.29s\tremaining: 8.21s\n",
      "286:\tlearn: 0.1024737\ttotal: 3.3s\tremaining: 8.19s\n",
      "287:\tlearn: 0.1021517\ttotal: 3.31s\tremaining: 8.18s\n",
      "288:\tlearn: 0.1020830\ttotal: 3.32s\tremaining: 8.17s\n",
      "289:\tlearn: 0.1019155\ttotal: 3.33s\tremaining: 8.15s\n",
      "290:\tlearn: 0.1018169\ttotal: 3.34s\tremaining: 8.14s\n",
      "291:\tlearn: 0.1016280\ttotal: 3.35s\tremaining: 8.13s\n",
      "292:\tlearn: 0.1015612\ttotal: 3.36s\tremaining: 8.11s\n",
      "293:\tlearn: 0.1012718\ttotal: 3.37s\tremaining: 8.1s\n",
      "294:\tlearn: 0.1012055\ttotal: 3.38s\tremaining: 8.09s\n",
      "295:\tlearn: 0.1010626\ttotal: 3.39s\tremaining: 8.07s\n",
      "296:\tlearn: 0.1009709\ttotal: 3.4s\tremaining: 8.06s\n",
      "297:\tlearn: 0.1009330\ttotal: 3.41s\tremaining: 8.04s\n",
      "298:\tlearn: 0.1008373\ttotal: 3.42s\tremaining: 8.03s\n",
      "299:\tlearn: 0.1007697\ttotal: 3.44s\tremaining: 8.02s\n",
      "300:\tlearn: 0.1006638\ttotal: 3.45s\tremaining: 8s\n",
      "301:\tlearn: 0.1005624\ttotal: 3.46s\tremaining: 7.99s\n",
      "302:\tlearn: 0.1003964\ttotal: 3.47s\tremaining: 7.97s\n",
      "303:\tlearn: 0.1002604\ttotal: 3.48s\tremaining: 7.96s\n",
      "304:\tlearn: 0.1001744\ttotal: 3.49s\tremaining: 7.95s\n",
      "305:\tlearn: 0.1001167\ttotal: 3.5s\tremaining: 7.93s\n",
      "306:\tlearn: 0.1000482\ttotal: 3.51s\tremaining: 7.92s\n",
      "307:\tlearn: 0.0998091\ttotal: 3.52s\tremaining: 7.91s\n",
      "308:\tlearn: 0.0997397\ttotal: 3.53s\tremaining: 7.89s\n",
      "309:\tlearn: 0.0995374\ttotal: 3.54s\tremaining: 7.88s\n",
      "310:\tlearn: 0.0994892\ttotal: 3.55s\tremaining: 7.87s\n",
      "311:\tlearn: 0.0994007\ttotal: 3.56s\tremaining: 7.85s\n",
      "312:\tlearn: 0.0992976\ttotal: 3.57s\tremaining: 7.84s\n",
      "313:\tlearn: 0.0991581\ttotal: 3.58s\tremaining: 7.83s\n",
      "314:\tlearn: 0.0990299\ttotal: 3.6s\tremaining: 7.82s\n",
      "315:\tlearn: 0.0988522\ttotal: 3.61s\tremaining: 7.8s\n",
      "316:\tlearn: 0.0987984\ttotal: 3.62s\tremaining: 7.79s\n",
      "317:\tlearn: 0.0986977\ttotal: 3.63s\tremaining: 7.78s\n",
      "318:\tlearn: 0.0986142\ttotal: 3.64s\tremaining: 7.76s\n",
      "319:\tlearn: 0.0984611\ttotal: 3.65s\tremaining: 7.75s\n",
      "320:\tlearn: 0.0983081\ttotal: 3.66s\tremaining: 7.74s\n",
      "321:\tlearn: 0.0982463\ttotal: 3.67s\tremaining: 7.72s\n",
      "322:\tlearn: 0.0981249\ttotal: 3.68s\tremaining: 7.71s\n",
      "323:\tlearn: 0.0979918\ttotal: 3.69s\tremaining: 7.7s\n",
      "324:\tlearn: 0.0978824\ttotal: 3.7s\tremaining: 7.68s\n",
      "325:\tlearn: 0.0978379\ttotal: 3.71s\tremaining: 7.67s\n",
      "326:\tlearn: 0.0977617\ttotal: 3.72s\tremaining: 7.66s\n",
      "327:\tlearn: 0.0977076\ttotal: 3.73s\tremaining: 7.64s\n",
      "328:\tlearn: 0.0976158\ttotal: 3.74s\tremaining: 7.63s\n",
      "329:\tlearn: 0.0975122\ttotal: 3.75s\tremaining: 7.62s\n",
      "330:\tlearn: 0.0973939\ttotal: 3.76s\tremaining: 7.61s\n",
      "331:\tlearn: 0.0973660\ttotal: 3.77s\tremaining: 7.59s\n"
     ]
    },
    {
     "name": "stdout",
     "output_type": "stream",
     "text": [
      "332:\tlearn: 0.0973264\ttotal: 3.78s\tremaining: 7.58s\n",
      "333:\tlearn: 0.0972575\ttotal: 3.79s\tremaining: 7.57s\n",
      "334:\tlearn: 0.0972071\ttotal: 3.81s\tremaining: 7.55s\n",
      "335:\tlearn: 0.0971160\ttotal: 3.82s\tremaining: 7.54s\n",
      "336:\tlearn: 0.0970377\ttotal: 3.83s\tremaining: 7.53s\n",
      "337:\tlearn: 0.0969556\ttotal: 3.84s\tremaining: 7.52s\n",
      "338:\tlearn: 0.0967690\ttotal: 3.85s\tremaining: 7.5s\n",
      "339:\tlearn: 0.0967283\ttotal: 3.86s\tremaining: 7.49s\n",
      "340:\tlearn: 0.0965736\ttotal: 3.87s\tremaining: 7.47s\n",
      "341:\tlearn: 0.0965307\ttotal: 3.88s\tremaining: 7.46s\n",
      "342:\tlearn: 0.0963277\ttotal: 3.89s\tremaining: 7.45s\n",
      "343:\tlearn: 0.0962779\ttotal: 3.9s\tremaining: 7.44s\n",
      "344:\tlearn: 0.0962497\ttotal: 3.91s\tremaining: 7.42s\n",
      "345:\tlearn: 0.0961481\ttotal: 3.92s\tremaining: 7.41s\n",
      "346:\tlearn: 0.0961105\ttotal: 3.93s\tremaining: 7.4s\n",
      "347:\tlearn: 0.0959367\ttotal: 3.94s\tremaining: 7.38s\n",
      "348:\tlearn: 0.0958693\ttotal: 3.95s\tremaining: 7.37s\n",
      "349:\tlearn: 0.0957956\ttotal: 3.96s\tremaining: 7.36s\n",
      "350:\tlearn: 0.0957280\ttotal: 3.97s\tremaining: 7.35s\n",
      "351:\tlearn: 0.0956107\ttotal: 3.98s\tremaining: 7.33s\n",
      "352:\tlearn: 0.0955838\ttotal: 4s\tremaining: 7.33s\n",
      "353:\tlearn: 0.0955391\ttotal: 4.01s\tremaining: 7.32s\n",
      "354:\tlearn: 0.0954656\ttotal: 4.02s\tremaining: 7.3s\n",
      "355:\tlearn: 0.0954098\ttotal: 4.03s\tremaining: 7.29s\n",
      "356:\tlearn: 0.0953473\ttotal: 4.04s\tremaining: 7.28s\n",
      "357:\tlearn: 0.0952912\ttotal: 4.05s\tremaining: 7.26s\n",
      "358:\tlearn: 0.0951786\ttotal: 4.06s\tremaining: 7.25s\n",
      "359:\tlearn: 0.0950503\ttotal: 4.07s\tremaining: 7.24s\n",
      "360:\tlearn: 0.0949980\ttotal: 4.08s\tremaining: 7.22s\n",
      "361:\tlearn: 0.0949371\ttotal: 4.09s\tremaining: 7.21s\n",
      "362:\tlearn: 0.0949062\ttotal: 4.1s\tremaining: 7.2s\n",
      "363:\tlearn: 0.0947844\ttotal: 4.11s\tremaining: 7.19s\n",
      "364:\tlearn: 0.0947365\ttotal: 4.12s\tremaining: 7.17s\n",
      "365:\tlearn: 0.0946675\ttotal: 4.13s\tremaining: 7.16s\n",
      "366:\tlearn: 0.0945975\ttotal: 4.15s\tremaining: 7.15s\n",
      "367:\tlearn: 0.0945356\ttotal: 4.16s\tremaining: 7.14s\n",
      "368:\tlearn: 0.0944820\ttotal: 4.17s\tremaining: 7.13s\n",
      "369:\tlearn: 0.0944293\ttotal: 4.18s\tremaining: 7.13s\n",
      "370:\tlearn: 0.0942877\ttotal: 4.2s\tremaining: 7.12s\n",
      "371:\tlearn: 0.0942630\ttotal: 4.21s\tremaining: 7.11s\n",
      "372:\tlearn: 0.0941862\ttotal: 4.22s\tremaining: 7.1s\n",
      "373:\tlearn: 0.0940715\ttotal: 4.24s\tremaining: 7.09s\n",
      "374:\tlearn: 0.0939770\ttotal: 4.25s\tremaining: 7.08s\n",
      "375:\tlearn: 0.0938607\ttotal: 4.26s\tremaining: 7.07s\n",
      "376:\tlearn: 0.0937609\ttotal: 4.27s\tremaining: 7.06s\n",
      "377:\tlearn: 0.0937137\ttotal: 4.29s\tremaining: 7.05s\n",
      "378:\tlearn: 0.0936597\ttotal: 4.3s\tremaining: 7.04s\n",
      "379:\tlearn: 0.0935783\ttotal: 4.31s\tremaining: 7.03s\n",
      "380:\tlearn: 0.0935029\ttotal: 4.32s\tremaining: 7.03s\n",
      "381:\tlearn: 0.0934592\ttotal: 4.34s\tremaining: 7.02s\n",
      "382:\tlearn: 0.0934347\ttotal: 4.35s\tremaining: 7.01s\n",
      "383:\tlearn: 0.0933977\ttotal: 4.36s\tremaining: 7s\n",
      "384:\tlearn: 0.0933336\ttotal: 4.37s\tremaining: 6.99s\n",
      "385:\tlearn: 0.0932992\ttotal: 4.38s\tremaining: 6.98s\n",
      "386:\tlearn: 0.0932273\ttotal: 4.4s\tremaining: 6.96s\n",
      "387:\tlearn: 0.0931564\ttotal: 4.41s\tremaining: 6.95s\n",
      "388:\tlearn: 0.0931059\ttotal: 4.42s\tremaining: 6.95s\n",
      "389:\tlearn: 0.0930299\ttotal: 4.43s\tremaining: 6.94s\n",
      "390:\tlearn: 0.0929987\ttotal: 4.45s\tremaining: 6.93s\n",
      "391:\tlearn: 0.0929478\ttotal: 4.46s\tremaining: 6.92s\n",
      "392:\tlearn: 0.0928736\ttotal: 4.47s\tremaining: 6.91s\n",
      "393:\tlearn: 0.0928419\ttotal: 4.48s\tremaining: 6.89s\n",
      "394:\tlearn: 0.0928018\ttotal: 4.49s\tremaining: 6.88s\n",
      "395:\tlearn: 0.0927223\ttotal: 4.5s\tremaining: 6.87s\n",
      "396:\tlearn: 0.0926114\ttotal: 4.51s\tremaining: 6.86s\n",
      "397:\tlearn: 0.0925526\ttotal: 4.53s\tremaining: 6.84s\n",
      "398:\tlearn: 0.0924964\ttotal: 4.54s\tremaining: 6.83s\n",
      "399:\tlearn: 0.0923265\ttotal: 4.55s\tremaining: 6.82s\n",
      "400:\tlearn: 0.0922840\ttotal: 4.56s\tremaining: 6.81s\n",
      "401:\tlearn: 0.0922567\ttotal: 4.57s\tremaining: 6.79s\n",
      "402:\tlearn: 0.0922190\ttotal: 4.58s\tremaining: 6.78s\n",
      "403:\tlearn: 0.0921500\ttotal: 4.59s\tremaining: 6.77s\n",
      "404:\tlearn: 0.0921192\ttotal: 4.6s\tremaining: 6.75s\n",
      "405:\tlearn: 0.0920621\ttotal: 4.61s\tremaining: 6.74s\n",
      "406:\tlearn: 0.0920111\ttotal: 4.62s\tremaining: 6.73s\n",
      "407:\tlearn: 0.0919558\ttotal: 4.63s\tremaining: 6.72s\n",
      "408:\tlearn: 0.0918811\ttotal: 4.64s\tremaining: 6.7s\n",
      "409:\tlearn: 0.0918544\ttotal: 4.65s\tremaining: 6.69s\n",
      "410:\tlearn: 0.0917928\ttotal: 4.66s\tremaining: 6.68s\n",
      "411:\tlearn: 0.0917665\ttotal: 4.67s\tremaining: 6.67s\n",
      "412:\tlearn: 0.0916910\ttotal: 4.68s\tremaining: 6.65s\n",
      "413:\tlearn: 0.0916749\ttotal: 4.69s\tremaining: 6.64s\n",
      "414:\tlearn: 0.0915900\ttotal: 4.7s\tremaining: 6.63s\n",
      "415:\tlearn: 0.0914785\ttotal: 4.71s\tremaining: 6.62s\n",
      "416:\tlearn: 0.0914342\ttotal: 4.72s\tremaining: 6.6s\n",
      "417:\tlearn: 0.0913944\ttotal: 4.73s\tremaining: 6.59s\n",
      "418:\tlearn: 0.0913439\ttotal: 4.74s\tremaining: 6.58s\n",
      "419:\tlearn: 0.0912496\ttotal: 4.75s\tremaining: 6.57s\n",
      "420:\tlearn: 0.0911813\ttotal: 4.76s\tremaining: 6.55s\n",
      "421:\tlearn: 0.0911326\ttotal: 4.78s\tremaining: 6.54s\n",
      "422:\tlearn: 0.0910698\ttotal: 4.79s\tremaining: 6.53s\n",
      "423:\tlearn: 0.0909923\ttotal: 4.8s\tremaining: 6.52s\n",
      "424:\tlearn: 0.0909565\ttotal: 4.81s\tremaining: 6.5s\n",
      "425:\tlearn: 0.0908253\ttotal: 4.82s\tremaining: 6.49s\n",
      "426:\tlearn: 0.0907699\ttotal: 4.83s\tremaining: 6.48s\n",
      "427:\tlearn: 0.0906300\ttotal: 4.84s\tremaining: 6.47s\n",
      "428:\tlearn: 0.0905630\ttotal: 4.85s\tremaining: 6.46s\n",
      "429:\tlearn: 0.0905107\ttotal: 4.86s\tremaining: 6.44s\n",
      "430:\tlearn: 0.0904510\ttotal: 4.87s\tremaining: 6.43s\n",
      "431:\tlearn: 0.0903618\ttotal: 4.88s\tremaining: 6.42s\n",
      "432:\tlearn: 0.0903286\ttotal: 4.89s\tremaining: 6.41s\n",
      "433:\tlearn: 0.0903020\ttotal: 4.9s\tremaining: 6.39s\n",
      "434:\tlearn: 0.0902632\ttotal: 4.91s\tremaining: 6.38s\n",
      "435:\tlearn: 0.0901318\ttotal: 4.92s\tremaining: 6.37s\n",
      "436:\tlearn: 0.0900619\ttotal: 4.93s\tremaining: 6.36s\n",
      "437:\tlearn: 0.0900541\ttotal: 4.94s\tremaining: 6.34s\n",
      "438:\tlearn: 0.0900215\ttotal: 4.96s\tremaining: 6.33s\n",
      "439:\tlearn: 0.0899572\ttotal: 4.96s\tremaining: 6.32s\n",
      "440:\tlearn: 0.0899466\ttotal: 4.97s\tremaining: 6.31s\n",
      "441:\tlearn: 0.0899146\ttotal: 4.99s\tremaining: 6.29s\n",
      "442:\tlearn: 0.0898847\ttotal: 5s\tremaining: 6.28s\n",
      "443:\tlearn: 0.0898097\ttotal: 5.01s\tremaining: 6.27s\n",
      "444:\tlearn: 0.0897336\ttotal: 5.02s\tremaining: 6.26s\n",
      "445:\tlearn: 0.0897023\ttotal: 5.03s\tremaining: 6.25s\n",
      "446:\tlearn: 0.0896216\ttotal: 5.04s\tremaining: 6.24s\n",
      "447:\tlearn: 0.0895788\ttotal: 5.05s\tremaining: 6.22s\n",
      "448:\tlearn: 0.0895015\ttotal: 5.06s\tremaining: 6.21s\n",
      "449:\tlearn: 0.0894257\ttotal: 5.07s\tremaining: 6.2s\n",
      "450:\tlearn: 0.0893837\ttotal: 5.08s\tremaining: 6.19s\n",
      "451:\tlearn: 0.0893258\ttotal: 5.09s\tremaining: 6.17s\n",
      "452:\tlearn: 0.0892936\ttotal: 5.1s\tremaining: 6.16s\n",
      "453:\tlearn: 0.0891729\ttotal: 5.11s\tremaining: 6.15s\n",
      "454:\tlearn: 0.0891097\ttotal: 5.12s\tremaining: 6.14s\n",
      "455:\tlearn: 0.0890508\ttotal: 5.13s\tremaining: 6.13s\n",
      "456:\tlearn: 0.0889872\ttotal: 5.14s\tremaining: 6.11s\n",
      "457:\tlearn: 0.0889751\ttotal: 5.16s\tremaining: 6.1s\n",
      "458:\tlearn: 0.0889315\ttotal: 5.17s\tremaining: 6.09s\n",
      "459:\tlearn: 0.0888501\ttotal: 5.18s\tremaining: 6.08s\n",
      "460:\tlearn: 0.0887880\ttotal: 5.19s\tremaining: 6.07s\n",
      "461:\tlearn: 0.0887703\ttotal: 5.2s\tremaining: 6.05s\n",
      "462:\tlearn: 0.0887420\ttotal: 5.21s\tremaining: 6.04s\n",
      "463:\tlearn: 0.0886970\ttotal: 5.22s\tremaining: 6.03s\n",
      "464:\tlearn: 0.0886424\ttotal: 5.23s\tremaining: 6.02s\n",
      "465:\tlearn: 0.0885663\ttotal: 5.24s\tremaining: 6.01s\n",
      "466:\tlearn: 0.0885211\ttotal: 5.25s\tremaining: 6s\n",
      "467:\tlearn: 0.0884825\ttotal: 5.26s\tremaining: 5.98s\n",
      "468:\tlearn: 0.0884473\ttotal: 5.27s\tremaining: 5.97s\n",
      "469:\tlearn: 0.0884325\ttotal: 5.28s\tremaining: 5.96s\n",
      "470:\tlearn: 0.0883873\ttotal: 5.29s\tremaining: 5.95s\n",
      "471:\tlearn: 0.0883564\ttotal: 5.3s\tremaining: 5.93s\n",
      "472:\tlearn: 0.0882754\ttotal: 5.32s\tremaining: 5.92s\n",
      "473:\tlearn: 0.0882608\ttotal: 5.33s\tremaining: 5.91s\n",
      "474:\tlearn: 0.0881871\ttotal: 5.33s\tremaining: 5.9s\n",
      "475:\tlearn: 0.0881431\ttotal: 5.34s\tremaining: 5.88s\n",
      "476:\tlearn: 0.0880561\ttotal: 5.36s\tremaining: 5.87s\n",
      "477:\tlearn: 0.0880340\ttotal: 5.37s\tremaining: 5.86s\n",
      "478:\tlearn: 0.0880116\ttotal: 5.38s\tremaining: 5.85s\n",
      "479:\tlearn: 0.0879368\ttotal: 5.39s\tremaining: 5.84s\n",
      "480:\tlearn: 0.0879224\ttotal: 5.4s\tremaining: 5.83s\n",
      "481:\tlearn: 0.0879026\ttotal: 5.41s\tremaining: 5.82s\n",
      "482:\tlearn: 0.0878902\ttotal: 5.42s\tremaining: 5.8s\n",
      "483:\tlearn: 0.0877650\ttotal: 5.43s\tremaining: 5.79s\n",
      "484:\tlearn: 0.0876977\ttotal: 5.44s\tremaining: 5.78s\n",
      "485:\tlearn: 0.0876527\ttotal: 5.45s\tremaining: 5.77s\n",
      "486:\tlearn: 0.0876207\ttotal: 5.46s\tremaining: 5.76s\n",
      "487:\tlearn: 0.0875382\ttotal: 5.47s\tremaining: 5.75s\n",
      "488:\tlearn: 0.0875051\ttotal: 5.49s\tremaining: 5.73s\n",
      "489:\tlearn: 0.0874630\ttotal: 5.5s\tremaining: 5.72s\n",
      "490:\tlearn: 0.0874071\ttotal: 5.51s\tremaining: 5.71s\n",
      "491:\tlearn: 0.0873294\ttotal: 5.52s\tremaining: 5.7s\n",
      "492:\tlearn: 0.0873040\ttotal: 5.53s\tremaining: 5.69s\n",
      "493:\tlearn: 0.0872332\ttotal: 5.54s\tremaining: 5.67s\n",
      "494:\tlearn: 0.0872132\ttotal: 5.55s\tremaining: 5.66s\n"
     ]
    },
    {
     "name": "stdout",
     "output_type": "stream",
     "text": [
      "495:\tlearn: 0.0871339\ttotal: 5.56s\tremaining: 5.65s\n",
      "496:\tlearn: 0.0871138\ttotal: 5.57s\tremaining: 5.64s\n",
      "497:\tlearn: 0.0870676\ttotal: 5.58s\tremaining: 5.63s\n",
      "498:\tlearn: 0.0870449\ttotal: 5.59s\tremaining: 5.62s\n",
      "499:\tlearn: 0.0870229\ttotal: 5.6s\tremaining: 5.6s\n",
      "500:\tlearn: 0.0869161\ttotal: 5.61s\tremaining: 5.59s\n",
      "501:\tlearn: 0.0868745\ttotal: 5.62s\tremaining: 5.58s\n",
      "502:\tlearn: 0.0868347\ttotal: 5.63s\tremaining: 5.57s\n",
      "503:\tlearn: 0.0866992\ttotal: 5.64s\tremaining: 5.56s\n",
      "504:\tlearn: 0.0866689\ttotal: 5.66s\tremaining: 5.54s\n",
      "505:\tlearn: 0.0866349\ttotal: 5.67s\tremaining: 5.53s\n",
      "506:\tlearn: 0.0866045\ttotal: 5.68s\tremaining: 5.52s\n",
      "507:\tlearn: 0.0865834\ttotal: 5.69s\tremaining: 5.51s\n",
      "508:\tlearn: 0.0865629\ttotal: 5.7s\tremaining: 5.5s\n",
      "509:\tlearn: 0.0864582\ttotal: 5.71s\tremaining: 5.49s\n",
      "510:\tlearn: 0.0864292\ttotal: 5.72s\tremaining: 5.47s\n",
      "511:\tlearn: 0.0864049\ttotal: 5.73s\tremaining: 5.46s\n",
      "512:\tlearn: 0.0863463\ttotal: 5.74s\tremaining: 5.45s\n",
      "513:\tlearn: 0.0863140\ttotal: 5.75s\tremaining: 5.44s\n",
      "514:\tlearn: 0.0862807\ttotal: 5.76s\tremaining: 5.43s\n",
      "515:\tlearn: 0.0862264\ttotal: 5.78s\tremaining: 5.42s\n",
      "516:\tlearn: 0.0862016\ttotal: 5.79s\tremaining: 5.41s\n",
      "517:\tlearn: 0.0861555\ttotal: 5.8s\tremaining: 5.39s\n",
      "518:\tlearn: 0.0861368\ttotal: 5.81s\tremaining: 5.38s\n",
      "519:\tlearn: 0.0860213\ttotal: 5.82s\tremaining: 5.37s\n",
      "520:\tlearn: 0.0859718\ttotal: 5.83s\tremaining: 5.36s\n",
      "521:\tlearn: 0.0859496\ttotal: 5.84s\tremaining: 5.34s\n",
      "522:\tlearn: 0.0858362\ttotal: 5.85s\tremaining: 5.33s\n",
      "523:\tlearn: 0.0857890\ttotal: 5.86s\tremaining: 5.32s\n",
      "524:\tlearn: 0.0857073\ttotal: 5.87s\tremaining: 5.31s\n",
      "525:\tlearn: 0.0856933\ttotal: 5.88s\tremaining: 5.3s\n",
      "526:\tlearn: 0.0856473\ttotal: 5.89s\tremaining: 5.29s\n",
      "527:\tlearn: 0.0855963\ttotal: 5.9s\tremaining: 5.28s\n",
      "528:\tlearn: 0.0855628\ttotal: 5.91s\tremaining: 5.26s\n",
      "529:\tlearn: 0.0855046\ttotal: 5.92s\tremaining: 5.25s\n",
      "530:\tlearn: 0.0855046\ttotal: 5.93s\tremaining: 5.24s\n",
      "531:\tlearn: 0.0854658\ttotal: 5.94s\tremaining: 5.23s\n",
      "532:\tlearn: 0.0854247\ttotal: 5.95s\tremaining: 5.21s\n",
      "533:\tlearn: 0.0853363\ttotal: 5.96s\tremaining: 5.2s\n",
      "534:\tlearn: 0.0853090\ttotal: 5.97s\tremaining: 5.19s\n",
      "535:\tlearn: 0.0852921\ttotal: 5.98s\tremaining: 5.18s\n",
      "536:\tlearn: 0.0852574\ttotal: 5.99s\tremaining: 5.17s\n",
      "537:\tlearn: 0.0852284\ttotal: 6s\tremaining: 5.16s\n",
      "538:\tlearn: 0.0851939\ttotal: 6.01s\tremaining: 5.14s\n",
      "539:\tlearn: 0.0851487\ttotal: 6.03s\tremaining: 5.13s\n",
      "540:\tlearn: 0.0850481\ttotal: 6.04s\tremaining: 5.12s\n",
      "541:\tlearn: 0.0850115\ttotal: 6.05s\tremaining: 5.11s\n",
      "542:\tlearn: 0.0849817\ttotal: 6.06s\tremaining: 5.1s\n",
      "543:\tlearn: 0.0849068\ttotal: 6.07s\tremaining: 5.09s\n",
      "544:\tlearn: 0.0848771\ttotal: 6.08s\tremaining: 5.08s\n",
      "545:\tlearn: 0.0848308\ttotal: 6.09s\tremaining: 5.07s\n",
      "546:\tlearn: 0.0848188\ttotal: 6.1s\tremaining: 5.05s\n",
      "547:\tlearn: 0.0847992\ttotal: 6.11s\tremaining: 5.04s\n",
      "548:\tlearn: 0.0847221\ttotal: 6.12s\tremaining: 5.03s\n",
      "549:\tlearn: 0.0846926\ttotal: 6.13s\tremaining: 5.02s\n",
      "550:\tlearn: 0.0846467\ttotal: 6.14s\tremaining: 5.01s\n",
      "551:\tlearn: 0.0846367\ttotal: 6.15s\tremaining: 4.99s\n",
      "552:\tlearn: 0.0845558\ttotal: 6.16s\tremaining: 4.98s\n",
      "553:\tlearn: 0.0845157\ttotal: 6.17s\tremaining: 4.97s\n",
      "554:\tlearn: 0.0844927\ttotal: 6.18s\tremaining: 4.96s\n",
      "555:\tlearn: 0.0844691\ttotal: 6.19s\tremaining: 4.95s\n",
      "556:\tlearn: 0.0844511\ttotal: 6.2s\tremaining: 4.93s\n",
      "557:\tlearn: 0.0843692\ttotal: 6.21s\tremaining: 4.92s\n",
      "558:\tlearn: 0.0843499\ttotal: 6.23s\tremaining: 4.91s\n",
      "559:\tlearn: 0.0843307\ttotal: 6.24s\tremaining: 4.9s\n",
      "560:\tlearn: 0.0842599\ttotal: 6.25s\tremaining: 4.89s\n",
      "561:\tlearn: 0.0842451\ttotal: 6.26s\tremaining: 4.88s\n",
      "562:\tlearn: 0.0842354\ttotal: 6.27s\tremaining: 4.86s\n",
      "563:\tlearn: 0.0842103\ttotal: 6.28s\tremaining: 4.85s\n",
      "564:\tlearn: 0.0841730\ttotal: 6.29s\tremaining: 4.84s\n",
      "565:\tlearn: 0.0841426\ttotal: 6.3s\tremaining: 4.83s\n",
      "566:\tlearn: 0.0840944\ttotal: 6.31s\tremaining: 4.82s\n",
      "567:\tlearn: 0.0840831\ttotal: 6.32s\tremaining: 4.81s\n",
      "568:\tlearn: 0.0840537\ttotal: 6.33s\tremaining: 4.8s\n",
      "569:\tlearn: 0.0840274\ttotal: 6.34s\tremaining: 4.79s\n",
      "570:\tlearn: 0.0839795\ttotal: 6.35s\tremaining: 4.77s\n",
      "571:\tlearn: 0.0839634\ttotal: 6.36s\tremaining: 4.76s\n",
      "572:\tlearn: 0.0838595\ttotal: 6.38s\tremaining: 4.75s\n",
      "573:\tlearn: 0.0838359\ttotal: 6.39s\tremaining: 4.74s\n",
      "574:\tlearn: 0.0837809\ttotal: 6.4s\tremaining: 4.73s\n",
      "575:\tlearn: 0.0837709\ttotal: 6.41s\tremaining: 4.72s\n",
      "576:\tlearn: 0.0837261\ttotal: 6.42s\tremaining: 4.71s\n",
      "577:\tlearn: 0.0836802\ttotal: 6.43s\tremaining: 4.7s\n",
      "578:\tlearn: 0.0835920\ttotal: 6.44s\tremaining: 4.68s\n",
      "579:\tlearn: 0.0835463\ttotal: 6.46s\tremaining: 4.67s\n",
      "580:\tlearn: 0.0835219\ttotal: 6.47s\tremaining: 4.66s\n",
      "581:\tlearn: 0.0834951\ttotal: 6.48s\tremaining: 4.65s\n",
      "582:\tlearn: 0.0834779\ttotal: 6.49s\tremaining: 4.64s\n",
      "583:\tlearn: 0.0834524\ttotal: 6.5s\tremaining: 4.63s\n",
      "584:\tlearn: 0.0834434\ttotal: 6.52s\tremaining: 4.62s\n",
      "585:\tlearn: 0.0834044\ttotal: 6.53s\tremaining: 4.62s\n",
      "586:\tlearn: 0.0833365\ttotal: 6.55s\tremaining: 4.61s\n",
      "587:\tlearn: 0.0833139\ttotal: 6.56s\tremaining: 4.6s\n",
      "588:\tlearn: 0.0832956\ttotal: 6.57s\tremaining: 4.59s\n",
      "589:\tlearn: 0.0832707\ttotal: 6.58s\tremaining: 4.58s\n",
      "590:\tlearn: 0.0832203\ttotal: 6.6s\tremaining: 4.57s\n",
      "591:\tlearn: 0.0831884\ttotal: 6.61s\tremaining: 4.55s\n",
      "592:\tlearn: 0.0830970\ttotal: 6.62s\tremaining: 4.54s\n",
      "593:\tlearn: 0.0830837\ttotal: 6.64s\tremaining: 4.54s\n",
      "594:\tlearn: 0.0830701\ttotal: 6.65s\tremaining: 4.53s\n",
      "595:\tlearn: 0.0830339\ttotal: 6.66s\tremaining: 4.51s\n",
      "596:\tlearn: 0.0830185\ttotal: 6.67s\tremaining: 4.5s\n",
      "597:\tlearn: 0.0829879\ttotal: 6.69s\tremaining: 4.5s\n",
      "598:\tlearn: 0.0829627\ttotal: 6.7s\tremaining: 4.49s\n",
      "599:\tlearn: 0.0828501\ttotal: 6.72s\tremaining: 4.48s\n",
      "600:\tlearn: 0.0828159\ttotal: 6.73s\tremaining: 4.47s\n",
      "601:\tlearn: 0.0827260\ttotal: 6.75s\tremaining: 4.46s\n",
      "602:\tlearn: 0.0826987\ttotal: 6.76s\tremaining: 4.45s\n",
      "603:\tlearn: 0.0826408\ttotal: 6.77s\tremaining: 4.44s\n",
      "604:\tlearn: 0.0825660\ttotal: 6.79s\tremaining: 4.43s\n",
      "605:\tlearn: 0.0825137\ttotal: 6.8s\tremaining: 4.42s\n",
      "606:\tlearn: 0.0824934\ttotal: 6.81s\tremaining: 4.41s\n",
      "607:\tlearn: 0.0824053\ttotal: 6.83s\tremaining: 4.4s\n",
      "608:\tlearn: 0.0823802\ttotal: 6.84s\tremaining: 4.39s\n",
      "609:\tlearn: 0.0823398\ttotal: 6.86s\tremaining: 4.38s\n",
      "610:\tlearn: 0.0823263\ttotal: 6.87s\tremaining: 4.37s\n",
      "611:\tlearn: 0.0822985\ttotal: 6.88s\tremaining: 4.36s\n",
      "612:\tlearn: 0.0822695\ttotal: 6.89s\tremaining: 4.35s\n",
      "613:\tlearn: 0.0822363\ttotal: 6.91s\tremaining: 4.34s\n",
      "614:\tlearn: 0.0822299\ttotal: 6.92s\tremaining: 4.33s\n",
      "615:\tlearn: 0.0822080\ttotal: 6.94s\tremaining: 4.33s\n",
      "616:\tlearn: 0.0821600\ttotal: 6.95s\tremaining: 4.32s\n",
      "617:\tlearn: 0.0821213\ttotal: 6.97s\tremaining: 4.31s\n",
      "618:\tlearn: 0.0821067\ttotal: 6.98s\tremaining: 4.3s\n",
      "619:\tlearn: 0.0820361\ttotal: 7s\tremaining: 4.29s\n",
      "620:\tlearn: 0.0820322\ttotal: 7.01s\tremaining: 4.28s\n",
      "621:\tlearn: 0.0820171\ttotal: 7.02s\tremaining: 4.27s\n",
      "622:\tlearn: 0.0819931\ttotal: 7.04s\tremaining: 4.26s\n",
      "623:\tlearn: 0.0819351\ttotal: 7.05s\tremaining: 4.25s\n",
      "624:\tlearn: 0.0818864\ttotal: 7.07s\tremaining: 4.24s\n",
      "625:\tlearn: 0.0818581\ttotal: 7.08s\tremaining: 4.23s\n",
      "626:\tlearn: 0.0818249\ttotal: 7.09s\tremaining: 4.22s\n",
      "627:\tlearn: 0.0818000\ttotal: 7.11s\tremaining: 4.21s\n",
      "628:\tlearn: 0.0817638\ttotal: 7.12s\tremaining: 4.2s\n",
      "629:\tlearn: 0.0817380\ttotal: 7.14s\tremaining: 4.19s\n",
      "630:\tlearn: 0.0817251\ttotal: 7.15s\tremaining: 4.18s\n",
      "631:\tlearn: 0.0816806\ttotal: 7.16s\tremaining: 4.17s\n",
      "632:\tlearn: 0.0816649\ttotal: 7.18s\tremaining: 4.16s\n",
      "633:\tlearn: 0.0816494\ttotal: 7.19s\tremaining: 4.15s\n",
      "634:\tlearn: 0.0816302\ttotal: 7.21s\tremaining: 4.14s\n",
      "635:\tlearn: 0.0816155\ttotal: 7.22s\tremaining: 4.13s\n",
      "636:\tlearn: 0.0815754\ttotal: 7.23s\tremaining: 4.12s\n",
      "637:\tlearn: 0.0815457\ttotal: 7.25s\tremaining: 4.11s\n",
      "638:\tlearn: 0.0815089\ttotal: 7.26s\tremaining: 4.1s\n",
      "639:\tlearn: 0.0814082\ttotal: 7.27s\tremaining: 4.09s\n",
      "640:\tlearn: 0.0813223\ttotal: 7.29s\tremaining: 4.08s\n",
      "641:\tlearn: 0.0812962\ttotal: 7.3s\tremaining: 4.07s\n",
      "642:\tlearn: 0.0812875\ttotal: 7.32s\tremaining: 4.06s\n",
      "643:\tlearn: 0.0812758\ttotal: 7.33s\tremaining: 4.05s\n",
      "644:\tlearn: 0.0812541\ttotal: 7.34s\tremaining: 4.04s\n",
      "645:\tlearn: 0.0811965\ttotal: 7.36s\tremaining: 4.03s\n",
      "646:\tlearn: 0.0811833\ttotal: 7.37s\tremaining: 4.02s\n",
      "647:\tlearn: 0.0811635\ttotal: 7.38s\tremaining: 4.01s\n",
      "648:\tlearn: 0.0811222\ttotal: 7.4s\tremaining: 4s\n",
      "649:\tlearn: 0.0810436\ttotal: 7.42s\tremaining: 3.99s\n",
      "650:\tlearn: 0.0810337\ttotal: 7.44s\tremaining: 3.99s\n",
      "651:\tlearn: 0.0810295\ttotal: 7.45s\tremaining: 3.98s\n",
      "652:\tlearn: 0.0810056\ttotal: 7.47s\tremaining: 3.97s\n",
      "653:\tlearn: 0.0809810\ttotal: 7.48s\tremaining: 3.96s\n",
      "654:\tlearn: 0.0809244\ttotal: 7.5s\tremaining: 3.95s\n",
      "655:\tlearn: 0.0808771\ttotal: 7.52s\tremaining: 3.94s\n"
     ]
    },
    {
     "name": "stdout",
     "output_type": "stream",
     "text": [
      "656:\tlearn: 0.0808520\ttotal: 7.54s\tremaining: 3.93s\n",
      "657:\tlearn: 0.0808343\ttotal: 7.55s\tremaining: 3.92s\n",
      "658:\tlearn: 0.0808199\ttotal: 7.57s\tremaining: 3.91s\n",
      "659:\tlearn: 0.0807904\ttotal: 7.58s\tremaining: 3.91s\n",
      "660:\tlearn: 0.0807650\ttotal: 7.6s\tremaining: 3.9s\n",
      "661:\tlearn: 0.0807464\ttotal: 7.61s\tremaining: 3.89s\n",
      "662:\tlearn: 0.0807262\ttotal: 7.63s\tremaining: 3.88s\n",
      "663:\tlearn: 0.0807031\ttotal: 7.65s\tremaining: 3.87s\n",
      "664:\tlearn: 0.0806886\ttotal: 7.66s\tremaining: 3.86s\n",
      "665:\tlearn: 0.0806542\ttotal: 7.68s\tremaining: 3.85s\n",
      "666:\tlearn: 0.0806402\ttotal: 7.7s\tremaining: 3.84s\n",
      "667:\tlearn: 0.0806310\ttotal: 7.72s\tremaining: 3.84s\n",
      "668:\tlearn: 0.0806112\ttotal: 7.74s\tremaining: 3.83s\n",
      "669:\tlearn: 0.0805688\ttotal: 7.76s\tremaining: 3.82s\n",
      "670:\tlearn: 0.0805473\ttotal: 7.78s\tremaining: 3.81s\n",
      "671:\tlearn: 0.0805229\ttotal: 7.8s\tremaining: 3.81s\n",
      "672:\tlearn: 0.0805125\ttotal: 7.82s\tremaining: 3.8s\n",
      "673:\tlearn: 0.0804882\ttotal: 7.84s\tremaining: 3.79s\n",
      "674:\tlearn: 0.0804372\ttotal: 7.86s\tremaining: 3.78s\n",
      "675:\tlearn: 0.0804233\ttotal: 7.88s\tremaining: 3.77s\n",
      "676:\tlearn: 0.0804006\ttotal: 7.89s\tremaining: 3.77s\n",
      "677:\tlearn: 0.0803572\ttotal: 7.91s\tremaining: 3.76s\n",
      "678:\tlearn: 0.0803107\ttotal: 7.93s\tremaining: 3.75s\n",
      "679:\tlearn: 0.0802975\ttotal: 7.95s\tremaining: 3.74s\n",
      "680:\tlearn: 0.0802717\ttotal: 7.96s\tremaining: 3.73s\n",
      "681:\tlearn: 0.0802716\ttotal: 7.97s\tremaining: 3.71s\n",
      "682:\tlearn: 0.0802162\ttotal: 7.98s\tremaining: 3.7s\n",
      "683:\tlearn: 0.0801945\ttotal: 8s\tremaining: 3.69s\n",
      "684:\tlearn: 0.0801685\ttotal: 8.01s\tremaining: 3.68s\n",
      "685:\tlearn: 0.0801496\ttotal: 8.02s\tremaining: 3.67s\n",
      "686:\tlearn: 0.0801405\ttotal: 8.04s\tremaining: 3.66s\n",
      "687:\tlearn: 0.0801130\ttotal: 8.05s\tremaining: 3.65s\n",
      "688:\tlearn: 0.0800987\ttotal: 8.06s\tremaining: 3.64s\n",
      "689:\tlearn: 0.0800826\ttotal: 8.08s\tremaining: 3.63s\n",
      "690:\tlearn: 0.0800639\ttotal: 8.09s\tremaining: 3.62s\n",
      "691:\tlearn: 0.0800372\ttotal: 8.11s\tremaining: 3.61s\n",
      "692:\tlearn: 0.0800294\ttotal: 8.12s\tremaining: 3.6s\n",
      "693:\tlearn: 0.0800011\ttotal: 8.13s\tremaining: 3.59s\n",
      "694:\tlearn: 0.0799921\ttotal: 8.15s\tremaining: 3.58s\n",
      "695:\tlearn: 0.0799292\ttotal: 8.16s\tremaining: 3.56s\n",
      "696:\tlearn: 0.0799029\ttotal: 8.17s\tremaining: 3.55s\n",
      "697:\tlearn: 0.0798784\ttotal: 8.19s\tremaining: 3.54s\n",
      "698:\tlearn: 0.0798680\ttotal: 8.21s\tremaining: 3.53s\n",
      "699:\tlearn: 0.0798529\ttotal: 8.22s\tremaining: 3.52s\n",
      "700:\tlearn: 0.0798398\ttotal: 8.24s\tremaining: 3.51s\n",
      "701:\tlearn: 0.0798132\ttotal: 8.26s\tremaining: 3.5s\n",
      "702:\tlearn: 0.0797923\ttotal: 8.27s\tremaining: 3.49s\n",
      "703:\tlearn: 0.0797551\ttotal: 8.29s\tremaining: 3.48s\n",
      "704:\tlearn: 0.0797347\ttotal: 8.3s\tremaining: 3.47s\n",
      "705:\tlearn: 0.0797146\ttotal: 8.32s\tremaining: 3.46s\n",
      "706:\tlearn: 0.0796954\ttotal: 8.34s\tremaining: 3.46s\n",
      "707:\tlearn: 0.0796540\ttotal: 8.35s\tremaining: 3.44s\n",
      "708:\tlearn: 0.0796137\ttotal: 8.37s\tremaining: 3.43s\n",
      "709:\tlearn: 0.0795879\ttotal: 8.38s\tremaining: 3.42s\n",
      "710:\tlearn: 0.0795761\ttotal: 8.4s\tremaining: 3.41s\n",
      "711:\tlearn: 0.0795434\ttotal: 8.42s\tremaining: 3.4s\n",
      "712:\tlearn: 0.0795286\ttotal: 8.43s\tremaining: 3.4s\n",
      "713:\tlearn: 0.0795023\ttotal: 8.45s\tremaining: 3.38s\n",
      "714:\tlearn: 0.0794881\ttotal: 8.47s\tremaining: 3.38s\n",
      "715:\tlearn: 0.0794522\ttotal: 8.49s\tremaining: 3.37s\n",
      "716:\tlearn: 0.0794156\ttotal: 8.5s\tremaining: 3.36s\n",
      "717:\tlearn: 0.0793404\ttotal: 8.52s\tremaining: 3.35s\n",
      "718:\tlearn: 0.0793168\ttotal: 8.54s\tremaining: 3.34s\n",
      "719:\tlearn: 0.0792717\ttotal: 8.55s\tremaining: 3.33s\n",
      "720:\tlearn: 0.0792530\ttotal: 8.57s\tremaining: 3.32s\n",
      "721:\tlearn: 0.0792138\ttotal: 8.58s\tremaining: 3.31s\n",
      "722:\tlearn: 0.0791859\ttotal: 8.6s\tremaining: 3.29s\n",
      "723:\tlearn: 0.0791169\ttotal: 8.61s\tremaining: 3.28s\n",
      "724:\tlearn: 0.0791093\ttotal: 8.62s\tremaining: 3.27s\n",
      "725:\tlearn: 0.0790878\ttotal: 8.64s\tremaining: 3.26s\n",
      "726:\tlearn: 0.0790673\ttotal: 8.65s\tremaining: 3.25s\n",
      "727:\tlearn: 0.0790486\ttotal: 8.66s\tremaining: 3.24s\n",
      "728:\tlearn: 0.0790208\ttotal: 8.68s\tremaining: 3.23s\n",
      "729:\tlearn: 0.0789933\ttotal: 8.69s\tremaining: 3.21s\n",
      "730:\tlearn: 0.0789656\ttotal: 8.71s\tremaining: 3.2s\n",
      "731:\tlearn: 0.0789022\ttotal: 8.72s\tremaining: 3.19s\n",
      "732:\tlearn: 0.0788771\ttotal: 8.73s\tremaining: 3.18s\n",
      "733:\tlearn: 0.0788642\ttotal: 8.75s\tremaining: 3.17s\n",
      "734:\tlearn: 0.0788433\ttotal: 8.76s\tremaining: 3.16s\n",
      "735:\tlearn: 0.0787939\ttotal: 8.77s\tremaining: 3.15s\n",
      "736:\tlearn: 0.0787838\ttotal: 8.79s\tremaining: 3.13s\n",
      "737:\tlearn: 0.0787783\ttotal: 8.8s\tremaining: 3.12s\n",
      "738:\tlearn: 0.0787592\ttotal: 8.81s\tremaining: 3.11s\n",
      "739:\tlearn: 0.0787509\ttotal: 8.82s\tremaining: 3.1s\n",
      "740:\tlearn: 0.0787324\ttotal: 8.84s\tremaining: 3.09s\n",
      "741:\tlearn: 0.0787153\ttotal: 8.85s\tremaining: 3.08s\n",
      "742:\tlearn: 0.0787025\ttotal: 8.86s\tremaining: 3.07s\n",
      "743:\tlearn: 0.0786783\ttotal: 8.88s\tremaining: 3.05s\n",
      "744:\tlearn: 0.0786479\ttotal: 8.89s\tremaining: 3.04s\n",
      "745:\tlearn: 0.0786343\ttotal: 8.9s\tremaining: 3.03s\n",
      "746:\tlearn: 0.0786246\ttotal: 8.91s\tremaining: 3.02s\n",
      "747:\tlearn: 0.0786159\ttotal: 8.93s\tremaining: 3.01s\n",
      "748:\tlearn: 0.0786102\ttotal: 8.94s\tremaining: 3s\n",
      "749:\tlearn: 0.0785962\ttotal: 8.95s\tremaining: 2.98s\n",
      "750:\tlearn: 0.0785716\ttotal: 8.97s\tremaining: 2.97s\n",
      "751:\tlearn: 0.0785611\ttotal: 8.98s\tremaining: 2.96s\n",
      "752:\tlearn: 0.0785468\ttotal: 8.99s\tremaining: 2.95s\n",
      "753:\tlearn: 0.0785465\ttotal: 9s\tremaining: 2.94s\n",
      "754:\tlearn: 0.0785289\ttotal: 9.01s\tremaining: 2.92s\n",
      "755:\tlearn: 0.0784790\ttotal: 9.03s\tremaining: 2.91s\n",
      "756:\tlearn: 0.0784709\ttotal: 9.04s\tremaining: 2.9s\n",
      "757:\tlearn: 0.0784473\ttotal: 9.05s\tremaining: 2.89s\n",
      "758:\tlearn: 0.0784082\ttotal: 9.06s\tremaining: 2.88s\n",
      "759:\tlearn: 0.0783859\ttotal: 9.08s\tremaining: 2.87s\n",
      "760:\tlearn: 0.0783782\ttotal: 9.09s\tremaining: 2.85s\n",
      "761:\tlearn: 0.0783422\ttotal: 9.1s\tremaining: 2.84s\n",
      "762:\tlearn: 0.0783214\ttotal: 9.11s\tremaining: 2.83s\n",
      "763:\tlearn: 0.0783140\ttotal: 9.13s\tremaining: 2.82s\n",
      "764:\tlearn: 0.0782850\ttotal: 9.14s\tremaining: 2.81s\n",
      "765:\tlearn: 0.0782714\ttotal: 9.15s\tremaining: 2.8s\n",
      "766:\tlearn: 0.0782478\ttotal: 9.16s\tremaining: 2.78s\n",
      "767:\tlearn: 0.0782277\ttotal: 9.18s\tremaining: 2.77s\n",
      "768:\tlearn: 0.0782019\ttotal: 9.19s\tremaining: 2.76s\n",
      "769:\tlearn: 0.0781755\ttotal: 9.2s\tremaining: 2.75s\n",
      "770:\tlearn: 0.0781507\ttotal: 9.21s\tremaining: 2.74s\n",
      "771:\tlearn: 0.0781022\ttotal: 9.23s\tremaining: 2.73s\n",
      "772:\tlearn: 0.0780860\ttotal: 9.24s\tremaining: 2.71s\n",
      "773:\tlearn: 0.0780610\ttotal: 9.25s\tremaining: 2.7s\n",
      "774:\tlearn: 0.0780474\ttotal: 9.27s\tremaining: 2.69s\n",
      "775:\tlearn: 0.0780365\ttotal: 9.28s\tremaining: 2.68s\n",
      "776:\tlearn: 0.0779975\ttotal: 9.29s\tremaining: 2.67s\n",
      "777:\tlearn: 0.0779726\ttotal: 9.3s\tremaining: 2.65s\n",
      "778:\tlearn: 0.0779614\ttotal: 9.32s\tremaining: 2.64s\n",
      "779:\tlearn: 0.0779287\ttotal: 9.33s\tremaining: 2.63s\n",
      "780:\tlearn: 0.0779214\ttotal: 9.34s\tremaining: 2.62s\n",
      "781:\tlearn: 0.0779115\ttotal: 9.36s\tremaining: 2.61s\n",
      "782:\tlearn: 0.0778934\ttotal: 9.37s\tremaining: 2.6s\n",
      "783:\tlearn: 0.0778791\ttotal: 9.38s\tremaining: 2.58s\n",
      "784:\tlearn: 0.0778706\ttotal: 9.39s\tremaining: 2.57s\n",
      "785:\tlearn: 0.0778427\ttotal: 9.4s\tremaining: 2.56s\n",
      "786:\tlearn: 0.0778319\ttotal: 9.42s\tremaining: 2.55s\n",
      "787:\tlearn: 0.0778269\ttotal: 9.43s\tremaining: 2.54s\n",
      "788:\tlearn: 0.0778096\ttotal: 9.44s\tremaining: 2.52s\n",
      "789:\tlearn: 0.0777683\ttotal: 9.46s\tremaining: 2.51s\n",
      "790:\tlearn: 0.0777256\ttotal: 9.47s\tremaining: 2.5s\n",
      "791:\tlearn: 0.0777063\ttotal: 9.48s\tremaining: 2.49s\n",
      "792:\tlearn: 0.0776609\ttotal: 9.5s\tremaining: 2.48s\n",
      "793:\tlearn: 0.0776512\ttotal: 9.52s\tremaining: 2.47s\n",
      "794:\tlearn: 0.0776088\ttotal: 9.53s\tremaining: 2.46s\n",
      "795:\tlearn: 0.0775714\ttotal: 9.55s\tremaining: 2.45s\n",
      "796:\tlearn: 0.0775437\ttotal: 9.56s\tremaining: 2.44s\n",
      "797:\tlearn: 0.0775304\ttotal: 9.58s\tremaining: 2.42s\n",
      "798:\tlearn: 0.0775014\ttotal: 9.6s\tremaining: 2.41s\n",
      "799:\tlearn: 0.0774805\ttotal: 9.61s\tremaining: 2.4s\n",
      "800:\tlearn: 0.0774682\ttotal: 9.62s\tremaining: 2.39s\n",
      "801:\tlearn: 0.0774432\ttotal: 9.64s\tremaining: 2.38s\n",
      "802:\tlearn: 0.0774274\ttotal: 9.65s\tremaining: 2.37s\n",
      "803:\tlearn: 0.0774078\ttotal: 9.66s\tremaining: 2.36s\n",
      "804:\tlearn: 0.0773724\ttotal: 9.68s\tremaining: 2.35s\n",
      "805:\tlearn: 0.0773535\ttotal: 9.7s\tremaining: 2.33s\n",
      "806:\tlearn: 0.0773315\ttotal: 9.71s\tremaining: 2.32s\n",
      "807:\tlearn: 0.0772883\ttotal: 9.72s\tremaining: 2.31s\n",
      "808:\tlearn: 0.0772643\ttotal: 9.74s\tremaining: 2.3s\n",
      "809:\tlearn: 0.0772425\ttotal: 9.75s\tremaining: 2.29s\n",
      "810:\tlearn: 0.0771749\ttotal: 9.76s\tremaining: 2.27s\n",
      "811:\tlearn: 0.0771661\ttotal: 9.77s\tremaining: 2.26s\n",
      "812:\tlearn: 0.0771372\ttotal: 9.79s\tremaining: 2.25s\n",
      "813:\tlearn: 0.0771248\ttotal: 9.8s\tremaining: 2.24s\n",
      "814:\tlearn: 0.0771179\ttotal: 9.81s\tremaining: 2.23s\n",
      "815:\tlearn: 0.0770855\ttotal: 9.82s\tremaining: 2.21s\n",
      "816:\tlearn: 0.0770768\ttotal: 9.84s\tremaining: 2.2s\n",
      "817:\tlearn: 0.0770655\ttotal: 9.85s\tremaining: 2.19s\n",
      "818:\tlearn: 0.0770585\ttotal: 9.86s\tremaining: 2.18s\n",
      "819:\tlearn: 0.0770473\ttotal: 9.88s\tremaining: 2.17s\n",
      "820:\tlearn: 0.0770473\ttotal: 9.88s\tremaining: 2.15s\n",
      "821:\tlearn: 0.0770369\ttotal: 9.89s\tremaining: 2.14s\n"
     ]
    },
    {
     "name": "stdout",
     "output_type": "stream",
     "text": [
      "822:\tlearn: 0.0770103\ttotal: 9.91s\tremaining: 2.13s\n",
      "823:\tlearn: 0.0770010\ttotal: 9.92s\tremaining: 2.12s\n",
      "824:\tlearn: 0.0769694\ttotal: 9.93s\tremaining: 2.11s\n",
      "825:\tlearn: 0.0769620\ttotal: 9.95s\tremaining: 2.1s\n",
      "826:\tlearn: 0.0769509\ttotal: 9.96s\tremaining: 2.08s\n",
      "827:\tlearn: 0.0769372\ttotal: 9.97s\tremaining: 2.07s\n",
      "828:\tlearn: 0.0769176\ttotal: 9.98s\tremaining: 2.06s\n",
      "829:\tlearn: 0.0769047\ttotal: 9.99s\tremaining: 2.05s\n",
      "830:\tlearn: 0.0768907\ttotal: 10s\tremaining: 2.04s\n",
      "831:\tlearn: 0.0768332\ttotal: 10s\tremaining: 2.02s\n",
      "832:\tlearn: 0.0768163\ttotal: 10s\tremaining: 2.01s\n",
      "833:\tlearn: 0.0768024\ttotal: 10s\tremaining: 2s\n",
      "834:\tlearn: 0.0767446\ttotal: 10.1s\tremaining: 1.99s\n",
      "835:\tlearn: 0.0767152\ttotal: 10.1s\tremaining: 1.98s\n",
      "836:\tlearn: 0.0766818\ttotal: 10.1s\tremaining: 1.96s\n",
      "837:\tlearn: 0.0766609\ttotal: 10.1s\tremaining: 1.95s\n",
      "838:\tlearn: 0.0766387\ttotal: 10.1s\tremaining: 1.94s\n",
      "839:\tlearn: 0.0765944\ttotal: 10.1s\tremaining: 1.93s\n",
      "840:\tlearn: 0.0765823\ttotal: 10.1s\tremaining: 1.92s\n",
      "841:\tlearn: 0.0765544\ttotal: 10.1s\tremaining: 1.9s\n",
      "842:\tlearn: 0.0765395\ttotal: 10.2s\tremaining: 1.89s\n",
      "843:\tlearn: 0.0765315\ttotal: 10.2s\tremaining: 1.88s\n",
      "844:\tlearn: 0.0765182\ttotal: 10.2s\tremaining: 1.87s\n",
      "845:\tlearn: 0.0765087\ttotal: 10.2s\tremaining: 1.85s\n",
      "846:\tlearn: 0.0765043\ttotal: 10.2s\tremaining: 1.84s\n",
      "847:\tlearn: 0.0764927\ttotal: 10.2s\tremaining: 1.83s\n",
      "848:\tlearn: 0.0764631\ttotal: 10.2s\tremaining: 1.82s\n",
      "849:\tlearn: 0.0764516\ttotal: 10.2s\tremaining: 1.81s\n",
      "850:\tlearn: 0.0764063\ttotal: 10.3s\tremaining: 1.8s\n",
      "851:\tlearn: 0.0763864\ttotal: 10.3s\tremaining: 1.78s\n",
      "852:\tlearn: 0.0763393\ttotal: 10.3s\tremaining: 1.77s\n",
      "853:\tlearn: 0.0763258\ttotal: 10.3s\tremaining: 1.76s\n",
      "854:\tlearn: 0.0762738\ttotal: 10.3s\tremaining: 1.75s\n",
      "855:\tlearn: 0.0762462\ttotal: 10.3s\tremaining: 1.74s\n",
      "856:\tlearn: 0.0762126\ttotal: 10.3s\tremaining: 1.72s\n",
      "857:\tlearn: 0.0762024\ttotal: 10.3s\tremaining: 1.71s\n",
      "858:\tlearn: 0.0761929\ttotal: 10.4s\tremaining: 1.7s\n",
      "859:\tlearn: 0.0761682\ttotal: 10.4s\tremaining: 1.69s\n",
      "860:\tlearn: 0.0761448\ttotal: 10.4s\tremaining: 1.68s\n",
      "861:\tlearn: 0.0761324\ttotal: 10.4s\tremaining: 1.66s\n",
      "862:\tlearn: 0.0761154\ttotal: 10.4s\tremaining: 1.65s\n",
      "863:\tlearn: 0.0761088\ttotal: 10.4s\tremaining: 1.64s\n",
      "864:\tlearn: 0.0760979\ttotal: 10.4s\tremaining: 1.63s\n",
      "865:\tlearn: 0.0760836\ttotal: 10.4s\tremaining: 1.62s\n",
      "866:\tlearn: 0.0760335\ttotal: 10.5s\tremaining: 1.6s\n",
      "867:\tlearn: 0.0760196\ttotal: 10.5s\tremaining: 1.59s\n",
      "868:\tlearn: 0.0760074\ttotal: 10.5s\tremaining: 1.58s\n",
      "869:\tlearn: 0.0759609\ttotal: 10.5s\tremaining: 1.57s\n",
      "870:\tlearn: 0.0759529\ttotal: 10.5s\tremaining: 1.56s\n",
      "871:\tlearn: 0.0759437\ttotal: 10.5s\tremaining: 1.54s\n",
      "872:\tlearn: 0.0759166\ttotal: 10.5s\tremaining: 1.53s\n",
      "873:\tlearn: 0.0759010\ttotal: 10.6s\tremaining: 1.52s\n",
      "874:\tlearn: 0.0758931\ttotal: 10.6s\tremaining: 1.51s\n",
      "875:\tlearn: 0.0758709\ttotal: 10.6s\tremaining: 1.5s\n",
      "876:\tlearn: 0.0758607\ttotal: 10.6s\tremaining: 1.48s\n",
      "877:\tlearn: 0.0758252\ttotal: 10.6s\tremaining: 1.47s\n",
      "878:\tlearn: 0.0758120\ttotal: 10.6s\tremaining: 1.46s\n",
      "879:\tlearn: 0.0758019\ttotal: 10.6s\tremaining: 1.45s\n",
      "880:\tlearn: 0.0757848\ttotal: 10.6s\tremaining: 1.44s\n",
      "881:\tlearn: 0.0757721\ttotal: 10.7s\tremaining: 1.42s\n",
      "882:\tlearn: 0.0757548\ttotal: 10.7s\tremaining: 1.41s\n",
      "883:\tlearn: 0.0757248\ttotal: 10.7s\tremaining: 1.4s\n",
      "884:\tlearn: 0.0757099\ttotal: 10.7s\tremaining: 1.39s\n",
      "885:\tlearn: 0.0756719\ttotal: 10.7s\tremaining: 1.38s\n",
      "886:\tlearn: 0.0756321\ttotal: 10.7s\tremaining: 1.36s\n",
      "887:\tlearn: 0.0756249\ttotal: 10.7s\tremaining: 1.35s\n",
      "888:\tlearn: 0.0755913\ttotal: 10.7s\tremaining: 1.34s\n",
      "889:\tlearn: 0.0755724\ttotal: 10.8s\tremaining: 1.33s\n",
      "890:\tlearn: 0.0755615\ttotal: 10.8s\tremaining: 1.32s\n",
      "891:\tlearn: 0.0755492\ttotal: 10.8s\tremaining: 1.3s\n",
      "892:\tlearn: 0.0755376\ttotal: 10.8s\tremaining: 1.29s\n",
      "893:\tlearn: 0.0755166\ttotal: 10.8s\tremaining: 1.28s\n",
      "894:\tlearn: 0.0755039\ttotal: 10.8s\tremaining: 1.27s\n",
      "895:\tlearn: 0.0754863\ttotal: 10.8s\tremaining: 1.26s\n",
      "896:\tlearn: 0.0754563\ttotal: 10.8s\tremaining: 1.24s\n",
      "897:\tlearn: 0.0754354\ttotal: 10.8s\tremaining: 1.23s\n",
      "898:\tlearn: 0.0754278\ttotal: 10.9s\tremaining: 1.22s\n",
      "899:\tlearn: 0.0754048\ttotal: 10.9s\tremaining: 1.21s\n",
      "900:\tlearn: 0.0753967\ttotal: 10.9s\tremaining: 1.2s\n",
      "901:\tlearn: 0.0753861\ttotal: 10.9s\tremaining: 1.18s\n",
      "902:\tlearn: 0.0753729\ttotal: 10.9s\tremaining: 1.17s\n",
      "903:\tlearn: 0.0753220\ttotal: 10.9s\tremaining: 1.16s\n",
      "904:\tlearn: 0.0753044\ttotal: 10.9s\tremaining: 1.15s\n",
      "905:\tlearn: 0.0752807\ttotal: 10.9s\tremaining: 1.14s\n",
      "906:\tlearn: 0.0752729\ttotal: 11s\tremaining: 1.12s\n",
      "907:\tlearn: 0.0752443\ttotal: 11s\tremaining: 1.11s\n",
      "908:\tlearn: 0.0752221\ttotal: 11s\tremaining: 1.1s\n",
      "909:\tlearn: 0.0752089\ttotal: 11s\tremaining: 1.09s\n",
      "910:\tlearn: 0.0751942\ttotal: 11s\tremaining: 1.07s\n",
      "911:\tlearn: 0.0751822\ttotal: 11s\tremaining: 1.06s\n",
      "912:\tlearn: 0.0751713\ttotal: 11s\tremaining: 1.05s\n",
      "913:\tlearn: 0.0751657\ttotal: 11.1s\tremaining: 1.04s\n",
      "914:\tlearn: 0.0751362\ttotal: 11.1s\tremaining: 1.03s\n",
      "915:\tlearn: 0.0751060\ttotal: 11.1s\tremaining: 1.02s\n",
      "916:\tlearn: 0.0750686\ttotal: 11.1s\tremaining: 1s\n",
      "917:\tlearn: 0.0750433\ttotal: 11.1s\tremaining: 993ms\n",
      "918:\tlearn: 0.0750383\ttotal: 11.1s\tremaining: 980ms\n",
      "919:\tlearn: 0.0750313\ttotal: 11.1s\tremaining: 968ms\n",
      "920:\tlearn: 0.0750005\ttotal: 11.1s\tremaining: 956ms\n",
      "921:\tlearn: 0.0749826\ttotal: 11.2s\tremaining: 944ms\n",
      "922:\tlearn: 0.0749755\ttotal: 11.2s\tremaining: 932ms\n",
      "923:\tlearn: 0.0749566\ttotal: 11.2s\tremaining: 920ms\n",
      "924:\tlearn: 0.0749460\ttotal: 11.2s\tremaining: 908ms\n",
      "925:\tlearn: 0.0749372\ttotal: 11.2s\tremaining: 896ms\n",
      "926:\tlearn: 0.0749203\ttotal: 11.2s\tremaining: 884ms\n",
      "927:\tlearn: 0.0749114\ttotal: 11.2s\tremaining: 872ms\n",
      "928:\tlearn: 0.0749032\ttotal: 11.3s\tremaining: 860ms\n",
      "929:\tlearn: 0.0748798\ttotal: 11.3s\tremaining: 848ms\n",
      "930:\tlearn: 0.0748443\ttotal: 11.3s\tremaining: 836ms\n",
      "931:\tlearn: 0.0748199\ttotal: 11.3s\tremaining: 824ms\n",
      "932:\tlearn: 0.0748028\ttotal: 11.3s\tremaining: 812ms\n",
      "933:\tlearn: 0.0747676\ttotal: 11.3s\tremaining: 799ms\n",
      "934:\tlearn: 0.0747485\ttotal: 11.3s\tremaining: 787ms\n",
      "935:\tlearn: 0.0747437\ttotal: 11.3s\tremaining: 775ms\n",
      "936:\tlearn: 0.0747299\ttotal: 11.3s\tremaining: 763ms\n",
      "937:\tlearn: 0.0747229\ttotal: 11.4s\tremaining: 751ms\n",
      "938:\tlearn: 0.0747108\ttotal: 11.4s\tremaining: 739ms\n",
      "939:\tlearn: 0.0746890\ttotal: 11.4s\tremaining: 727ms\n",
      "940:\tlearn: 0.0746833\ttotal: 11.4s\tremaining: 715ms\n",
      "941:\tlearn: 0.0746685\ttotal: 11.4s\tremaining: 703ms\n",
      "942:\tlearn: 0.0746539\ttotal: 11.4s\tremaining: 691ms\n",
      "943:\tlearn: 0.0746538\ttotal: 11.4s\tremaining: 678ms\n",
      "944:\tlearn: 0.0746351\ttotal: 11.4s\tremaining: 666ms\n",
      "945:\tlearn: 0.0746081\ttotal: 11.5s\tremaining: 654ms\n",
      "946:\tlearn: 0.0745964\ttotal: 11.5s\tremaining: 642ms\n",
      "947:\tlearn: 0.0745833\ttotal: 11.5s\tremaining: 630ms\n",
      "948:\tlearn: 0.0745699\ttotal: 11.5s\tremaining: 618ms\n",
      "949:\tlearn: 0.0745488\ttotal: 11.5s\tremaining: 606ms\n",
      "950:\tlearn: 0.0745488\ttotal: 11.5s\tremaining: 594ms\n",
      "951:\tlearn: 0.0745272\ttotal: 11.5s\tremaining: 582ms\n",
      "952:\tlearn: 0.0745084\ttotal: 11.5s\tremaining: 569ms\n",
      "953:\tlearn: 0.0744988\ttotal: 11.6s\tremaining: 557ms\n",
      "954:\tlearn: 0.0744880\ttotal: 11.6s\tremaining: 545ms\n",
      "955:\tlearn: 0.0744778\ttotal: 11.6s\tremaining: 533ms\n",
      "956:\tlearn: 0.0744661\ttotal: 11.6s\tremaining: 521ms\n",
      "957:\tlearn: 0.0744550\ttotal: 11.6s\tremaining: 509ms\n",
      "958:\tlearn: 0.0744465\ttotal: 11.6s\tremaining: 497ms\n",
      "959:\tlearn: 0.0744161\ttotal: 11.6s\tremaining: 485ms\n",
      "960:\tlearn: 0.0744078\ttotal: 11.6s\tremaining: 473ms\n",
      "961:\tlearn: 0.0743809\ttotal: 11.7s\tremaining: 461ms\n",
      "962:\tlearn: 0.0743542\ttotal: 11.7s\tremaining: 449ms\n",
      "963:\tlearn: 0.0743435\ttotal: 11.7s\tremaining: 437ms\n",
      "964:\tlearn: 0.0743323\ttotal: 11.7s\tremaining: 424ms\n",
      "965:\tlearn: 0.0743236\ttotal: 11.7s\tremaining: 412ms\n",
      "966:\tlearn: 0.0743147\ttotal: 11.7s\tremaining: 400ms\n",
      "967:\tlearn: 0.0743029\ttotal: 11.7s\tremaining: 388ms\n",
      "968:\tlearn: 0.0742857\ttotal: 11.7s\tremaining: 376ms\n",
      "969:\tlearn: 0.0742671\ttotal: 11.8s\tremaining: 364ms\n",
      "970:\tlearn: 0.0742541\ttotal: 11.8s\tremaining: 352ms\n",
      "971:\tlearn: 0.0742277\ttotal: 11.8s\tremaining: 339ms\n",
      "972:\tlearn: 0.0742198\ttotal: 11.8s\tremaining: 327ms\n",
      "973:\tlearn: 0.0742029\ttotal: 11.8s\tremaining: 315ms\n",
      "974:\tlearn: 0.0741916\ttotal: 11.8s\tremaining: 303ms\n",
      "975:\tlearn: 0.0741847\ttotal: 11.8s\tremaining: 291ms\n",
      "976:\tlearn: 0.0741661\ttotal: 11.8s\tremaining: 279ms\n",
      "977:\tlearn: 0.0741310\ttotal: 11.9s\tremaining: 267ms\n",
      "978:\tlearn: 0.0741186\ttotal: 11.9s\tremaining: 255ms\n",
      "979:\tlearn: 0.0741067\ttotal: 11.9s\tremaining: 242ms\n",
      "980:\tlearn: 0.0740918\ttotal: 11.9s\tremaining: 230ms\n",
      "981:\tlearn: 0.0740865\ttotal: 11.9s\tremaining: 218ms\n",
      "982:\tlearn: 0.0740031\ttotal: 11.9s\tremaining: 206ms\n",
      "983:\tlearn: 0.0739844\ttotal: 11.9s\tremaining: 194ms\n",
      "984:\tlearn: 0.0739685\ttotal: 11.9s\tremaining: 182ms\n",
      "985:\tlearn: 0.0739459\ttotal: 11.9s\tremaining: 170ms\n",
      "986:\tlearn: 0.0739165\ttotal: 12s\tremaining: 158ms\n",
      "987:\tlearn: 0.0738976\ttotal: 12s\tremaining: 145ms\n",
      "988:\tlearn: 0.0738903\ttotal: 12s\tremaining: 133ms\n",
      "989:\tlearn: 0.0738850\ttotal: 12s\tremaining: 121ms\n",
      "990:\tlearn: 0.0738227\ttotal: 12s\tremaining: 109ms\n",
      "991:\tlearn: 0.0738094\ttotal: 12s\tremaining: 96.9ms\n",
      "992:\tlearn: 0.0737987\ttotal: 12s\tremaining: 84.8ms\n",
      "993:\tlearn: 0.0737923\ttotal: 12s\tremaining: 72.7ms\n"
     ]
    },
    {
     "name": "stdout",
     "output_type": "stream",
     "text": [
      "994:\tlearn: 0.0737589\ttotal: 12.1s\tremaining: 60.6ms\n",
      "995:\tlearn: 0.0737428\ttotal: 12.1s\tremaining: 48.5ms\n",
      "996:\tlearn: 0.0737293\ttotal: 12.1s\tremaining: 36.3ms\n",
      "997:\tlearn: 0.0736985\ttotal: 12.1s\tremaining: 24.2ms\n",
      "998:\tlearn: 0.0736785\ttotal: 12.1s\tremaining: 12.1ms\n",
      "999:\tlearn: 0.0736404\ttotal: 12.1s\tremaining: 0us\n"
     ]
    }
   ],
   "source": [
    "#Create the model\n",
    "cb = CatBoostClassifier(learning_rate = 0.01)\n",
    "#Train the model\n",
    "cb.fit(X_train, y_train)\n",
    "#Make prediction\n",
    "cb_pred = cb.predict(X_test)"
   ]
  },
  {
   "cell_type": "code",
   "execution_count": 55,
   "id": "93ef329f",
   "metadata": {},
   "outputs": [
    {
     "name": "stdout",
     "output_type": "stream",
     "text": [
      "Accuracy Score: 0.9671005297926614\n",
      "AUC Score 0.9673081116310721\n",
      "classification Report:\n",
      "               precision    recall  f1-score   support\n",
      "\n",
      "           0       0.95      0.98      0.97      7540\n",
      "           1       0.98      0.95      0.97      7749\n",
      "\n",
      "    accuracy                           0.97     15289\n",
      "   macro avg       0.97      0.97      0.97     15289\n",
      "weighted avg       0.97      0.97      0.97     15289\n",
      "\n",
      "confusion Matrix:\n",
      " [[7408  132]\n",
      " [ 371 7378]]\n"
     ]
    }
   ],
   "source": [
    "print(\"Accuracy Score:\",accuracy_score(y_test, cb_pred))\n",
    "print(\"AUC Score\",roc_auc_score(y_test, cb_pred))\n",
    "print(\"classification Report:\\n\",classification_report(y_test, cb_pred))\n",
    "print(\"confusion Matrix:\\n\",confusion_matrix(y_test, cb_pred))"
   ]
  },
  {
   "cell_type": "code",
   "execution_count": 56,
   "id": "4bd5712d",
   "metadata": {},
   "outputs": [
    {
     "name": "stdout",
     "output_type": "stream",
     "text": [
      "Precision Score 0.9824234354194408\n",
      "Recall Score 0.952122854561879\n"
     ]
    }
   ],
   "source": [
    "#Satisfied\n",
    "print(\"Precision Score\",precision_score(y_test, cb_pred))\n",
    "print(\"Recall Score\",recall_score(y_test, cb_pred))"
   ]
  },
  {
   "cell_type": "code",
   "execution_count": 57,
   "id": "2db2defb",
   "metadata": {},
   "outputs": [
    {
     "name": "stdout",
     "output_type": "stream",
     "text": [
      "Precision Score 0.9523074945365728\n",
      "Recall Score 0.9824933687002653\n"
     ]
    }
   ],
   "source": [
    "#Neutral or dissatisfied\n",
    "print(\"Precision Score\",precision_score(y_test, cb_pred, pos_label=0))\n",
    "print(\"Recall Score\",recall_score(y_test, cb_pred, pos_label=0))"
   ]
  },
  {
   "cell_type": "code",
   "execution_count": 58,
   "id": "730ad56d",
   "metadata": {},
   "outputs": [
    {
     "data": {
      "text/plain": [
       "<sklearn.metrics._plot.roc_curve.RocCurveDisplay at 0x23e02055250>"
      ]
     },
     "execution_count": 58,
     "metadata": {},
     "output_type": "execute_result"
    },
    {
     "data": {
      "image/png": "[encoded data removed]",
      "text/plain": [
       "<Figure size 432x288 with 2 Axes>"
      ]
     },
     "metadata": {
      "needs_background": "light"
     },
     "output_type": "display_data"
    },
    {
     "data": {
      "image/png": "[encoded data removed]",
      "text/plain": [
       "<Figure size 432x288 with 1 Axes>"
      ]
     },
     "metadata": {
      "needs_background": "light"
     },
     "output_type": "display_data"
    }
   ],
   "source": [
    "ConfusionMatrixDisplay.from_predictions(y_test, cb_pred)\n",
    "RocCurveDisplay.from_predictions(y_test, cb_pred)"
   ]
  }
 ],
 "metadata": {
  "kernelspec": {
   "display_name": "Python 3 (ipykernel)",
   "language": "python",
   "name": "python3"
  },
  "language_info": {
   "codemirror_mode": {
    "name": "ipython",
    "version": 3
   },
   "file_extension": ".py",
   "mimetype": "text/x-python",
   "name": "python",
   "nbconvert_exporter": "python",
   "pygments_lexer": "ipython3",
   "version": "3.9.12"
  }
 },
 "nbformat": 4,
 "nbformat_minor": 5
}
